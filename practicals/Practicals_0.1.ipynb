{
 "cells": [
  {
   "cell_type": "markdown",
   "id": "03a44e75",
   "metadata": {},
   "source": [
    "# Practicals for lecture 0.1\n",
    "\n",
    "[![Open In Colab](https://colab.research.google.com/assets/colab-badge.svg)](https://colab.research.google.com/github/vigji/python-cimec-2025/blob/main/practicals/Practicals_0.1.ipynb)"
   ]
  },
  {
   "cell_type": "markdown",
   "id": "1a9cd770",
   "metadata": {},
   "source": [
    "## 0.1.0 Strings"
   ]
  },
  {
   "cell_type": "code",
   "execution_count": 2,
   "id": "4fa90744",
   "metadata": {},
   "outputs": [
    {
     "data": {
      "text/plain": [
       "'ChinaChinaChinaChinaChinaChinaChinaChinaChinaChinaChinaChinaChinaChinaChinaChinaChinaChinaChinaChinaChinaChinaChinaChinaChinaChinaChinaChinaChinaChinaChinaChinaChinaChinaChinaChinaChinaChinaChinaChina'"
      ]
     },
     "execution_count": 2,
     "metadata": {},
     "output_type": "execute_result"
    }
   ],
   "source": [
    "# Create a Trump quote generator (https://www.youtube.com/watch?v=RDrfE9I8_hs)\n",
    "# by repeating 40 times the word \"China\". Start from the existing variable.\n",
    "quote = \"China\"\n",
    "\n",
    "# And use mathematical operators with strings!\n",
    "full_quote = quote * 40\n",
    "\n",
    "# The old quirks of this character make its 2022 persona \n",
    "# look almost endearing compared to the current presidency...\n",
    "full_quote"
   ]
  },
  {
   "cell_type": "code",
   "execution_count": 5,
   "id": "9311a294",
   "metadata": {},
   "outputs": [
    {
     "data": {
      "text/plain": [
       "'China China China China China China China China China China China China China China China China China China China China China China China China China China China China China China China China China China China China China China China China '"
      ]
     },
     "execution_count": 5,
     "metadata": {},
     "output_type": "execute_result"
    }
   ],
   "source": [
    "# Repeat the above, but incorporate spaces between the repeats\n",
    "# (keep using the variable defined above, and remember math with strings!):\n",
    "\n",
    "full_quote_with_spaces = (quote + \" \") * 40\n",
    "full_quote_with_spaces"
   ]
  },
  {
   "cell_type": "code",
   "execution_count": 6,
   "id": "7d79d391",
   "metadata": {},
   "outputs": [
    {
     "data": {
      "text/plain": [
       "240"
      ]
     },
     "execution_count": 6,
     "metadata": {},
     "output_type": "execute_result"
    }
   ],
   "source": [
    "# Find the length of the final quote (remember, you can use une of the default functions for this)\n",
    "len(full_quote_with_spaces)"
   ]
  },
  {
   "cell_type": "code",
   "execution_count": 8,
   "id": "3a23458f",
   "metadata": {},
   "outputs": [
    {
     "data": {
      "text/plain": [
       "\"Let's say: China China China China China China China China China China China China China China China China China China China China China China China China China China China China China China China China China China China China China China China China !\""
      ]
     },
     "execution_count": 8,
     "metadata": {},
     "output_type": "execute_result"
    }
   ],
   "source": [
    "# To complete the quote, format the result of the above operation \n",
    "# into the following string and print it:\n",
    "\n",
    "incipit = \"Let's say: {}!\"\n",
    "\n",
    "quote_with_incipit = incipit.format(full_quote_with_spaces)\n",
    "quote_with_incipit"
   ]
  },
  {
   "cell_type": "code",
   "execution_count": 9,
   "id": "5af7bb1e",
   "metadata": {},
   "outputs": [
    {
     "data": {
      "text/plain": [
       "['Betty',\n",
       " 'Botter',\n",
       " 'bought',\n",
       " 'some',\n",
       " 'butter',\n",
       " 'but,',\n",
       " 'said',\n",
       " 'she,',\n",
       " 'the',\n",
       " 'butter’s',\n",
       " 'bitter.',\n",
       " 'If',\n",
       " 'I',\n",
       " 'put',\n",
       " 'it',\n",
       " 'in',\n",
       " 'my',\n",
       " 'batter,',\n",
       " 'it',\n",
       " 'will',\n",
       " 'make',\n",
       " 'my',\n",
       " 'batter',\n",
       " 'bitter.']"
      ]
     },
     "execution_count": 9,
     "metadata": {},
     "output_type": "execute_result"
    }
   ],
   "source": [
    "# Split the following text in a list of individual words using the \n",
    "# .split() method.\n",
    "# Assign the result of split() to a word_list variable, and print it.\n",
    "\n",
    "text = \" Betty Botter bought some butter but, said she, the butter’s bitter. If I put it in my batter, it will make my batter bitter.\"\n",
    "\n",
    "word_list = text.split()\n",
    "word_list"
   ]
  },
  {
   "cell_type": "code",
   "execution_count": 10,
   "id": "c93591c3",
   "metadata": {},
   "outputs": [
    {
     "data": {
      "text/plain": [
       "' BETTY BOTTER BOUGHT SOME BUTTER BUT, SAID SHE, THE BUTTER’S BITTER. IF I PUT IT IN MY BATTER, IT WILL MAKE MY BATTER BITTER.'"
      ]
     },
     "execution_count": 10,
     "metadata": {},
     "output_type": "execute_result"
    }
   ],
   "source": [
    "# Convert the text to uppercase:\n",
    "text_upper = text.upper()\n",
    "text_upper\n"
   ]
  },
  {
   "cell_type": "code",
   "execution_count": 11,
   "id": "64ca06dc",
   "metadata": {},
   "outputs": [
    {
     "name": "stdout",
     "output_type": "stream",
     "text": [
      " et o\n",
      "er bitter.\n"
     ]
    }
   ],
   "source": [
    "# Take one every two characters from the first 10 characters of the text:\n",
    "text_every_two = text[:10:2]\n",
    "print(text_every_two)\n",
    "\n",
    "# Take the last 10 characters of the text:\n",
    "text_last_ten = text[-10:]\n",
    "print(text_last_ten)\n"
   ]
  },
  {
   "cell_type": "code",
   "execution_count": 12,
   "id": "0b1f4c83",
   "metadata": {},
   "outputs": [
    {
     "data": {
      "text/plain": [
       "True"
      ]
     },
     "execution_count": 12,
     "metadata": {},
     "output_type": "execute_result"
    }
   ],
   "source": [
    "# Check if a word is a palindrome:\n",
    "word = \"radar\"\n",
    "\n",
    "is_palindrome = word == word[::-1]\n",
    "is_palindrome"
   ]
  },
  {
   "cell_type": "code",
   "execution_count": null,
   "id": "fa6635d9",
   "metadata": {},
   "outputs": [],
   "source": [
    "# [Advanced]: Password Strength Validator\n",
    "\n",
    "# Write a Python program that validates the strength of a password based on the following rules:\n",
    "\n",
    "# The password must be at least 8 characters long.\n",
    "# The password must contain at least one uppercase letter.\n",
    "# The password must contain at least one lowercase letter.\n",
    "# The password must contain at least one digit.\n",
    "# The password must contain at least one special character (e.g., !, @, #, $, %, etc.).\n",
    "# Hint: you can check if a string contains only letters with the `isalpha()` method, \n",
    "# and if it contains only digits with the `isdigit()` method.\n",
    "\n",
    "# The solution does not require loops - but you can use them if you want to!\n",
    "# [correction]: there is no complete solution without loops, I apologize for the mistake!\n",
    "# (or better: there is one using map(), which is a more advanced concept than loops)\n",
    "\n",
    "good_password = \"Password123!\"\n",
    "bad_password = \"weak\"\n",
    "bad_password_2 = \"Short1!\"\n",
    "bad_password_3 = \"nouppercase!\"\n",
    "bad_password_4 = \"nodigits!\"\n",
    "bad_password_5 = \"Nospecial42\"\n",
    "\n",
    "password = \"Password123!\"\n",
    "\n",
    "is_good_password = (len(password) >= 8 and\n",
    "                    any(c.isupper() for c in password) and\n",
    "                    any(c.islower() for c in password) and\n",
    "                    any(c.isdigit() for c in password) and\n",
    "                    any(c in \"!@#$%^&*(),.?\\\":{}|<>\" for c in password))\n",
    "\n",
    "print(is_good_password)  # True or False depending on `password`\n",
    "\n",
    "# Solution using map() and no loops:\n",
    "is_good_password = (len(password) >= 8 and\n",
    "            any(map(str.isupper, password)) and\n",
    "            any(map(str.islower, password)) and\n",
    "            any(map(str.isdigit, password)) and\n",
    "            any(map(lambda c: c in string.punctuation, password)))\n"
   ]
  },
  {
   "cell_type": "markdown",
   "id": "5333bf92",
   "metadata": {},
   "source": [
    "## Data containers"
   ]
  },
  {
   "cell_type": "markdown",
   "id": "cefcbc31",
   "metadata": {},
   "source": [
    "#### 0.1.1 Lists"
   ]
  },
  {
   "cell_type": "code",
   "execution_count": 15,
   "id": "d36921d1",
   "metadata": {},
   "outputs": [],
   "source": [
    "# Use the .split() method to create a list of words from this string and assign it to a variable:\n",
    "a_string = \"The brain is a world consisting of a number of unexplored continents and great stretches of unknown territory.\"\n",
    "selected_elements = a_string.split()"
   ]
  },
  {
   "cell_type": "code",
   "execution_count": 16,
   "id": "1d7c75e2",
   "metadata": {},
   "outputs": [
    {
     "data": {
      "text/plain": [
       "['The', 'brain', 'is', 'a', 'world', 'consisting', 'of', 'a', 'number', 'of']"
      ]
     },
     "execution_count": 16,
     "metadata": {},
     "output_type": "execute_result"
    }
   ],
   "source": [
    "# Using indexing, make a new list named `selected_elements` taking one every two \n",
    "# of the first 10 elements from the `a_string` list:\n",
    "selected_elements = selected_elements[:10]\n",
    "selected_elements"
   ]
  },
  {
   "cell_type": "code",
   "execution_count": 17,
   "id": "3751c1c3",
   "metadata": {},
   "outputs": [
    {
     "data": {
      "text/plain": [
       "[1, 'brain', 'is', 'a', 'world', 'consisting', 'of', 'a', 'number', 'of']"
      ]
     },
     "execution_count": 17,
     "metadata": {},
     "output_type": "execute_result"
    }
   ],
   "source": [
    "# Then, replace the first element of `selected_elements` with a new string of your choice:\n",
    "selected_elements[0] = 1\n",
    "selected_elements"
   ]
  },
  {
   "cell_type": "code",
   "execution_count": 32,
   "id": "0b479eb3",
   "metadata": {},
   "outputs": [
    {
     "data": {
      "text/plain": [
       "['The',\n",
       " 'brain',\n",
       " 'is',\n",
       " 'a',\n",
       " 'world',\n",
       " 'consisting',\n",
       " 'of',\n",
       " 'a',\n",
       " 'number',\n",
       " 'of',\n",
       " 3]"
      ]
     },
     "execution_count": 32,
     "metadata": {},
     "output_type": "execute_result"
    }
   ],
   "source": [
    "# Use the .append() method to join one additional string of your choice to `selected_elements`, and \n",
    "# print it again:\n",
    "selected_elements = a_string.split()[:10]\n",
    "selected_elements.append(3)\n",
    "selected_elements"
   ]
  },
  {
   "cell_type": "code",
   "execution_count": 35,
   "id": "1e33e3d5",
   "metadata": {},
   "outputs": [
    {
     "data": {
      "text/plain": [
       "['The',\n",
       " 'brain',\n",
       " 'is',\n",
       " 'a',\n",
       " 'world',\n",
       " 'consisting',\n",
       " 'of',\n",
       " 'a',\n",
       " 'number',\n",
       " 'of',\n",
       " [1, 2, 3]]"
      ]
     },
     "execution_count": 35,
     "metadata": {},
     "output_type": "execute_result"
    }
   ],
   "source": [
    "# What happens if you try to .append() a list of values instead of a single value?\n",
    "# Try to .append() a list of words to the selected_elements:\n",
    "selected_elements = a_string.split()[:10]\n",
    "selected_elements.append([1,2,3])\n",
    "selected_elements"
   ]
  },
  {
   "cell_type": "code",
   "execution_count": 36,
   "id": "5ae095de",
   "metadata": {},
   "outputs": [
    {
     "data": {
      "text/plain": [
       "['The',\n",
       " 'brain',\n",
       " 'is',\n",
       " 'a',\n",
       " 'world',\n",
       " 'consisting',\n",
       " 'of',\n",
       " 'a',\n",
       " 'number',\n",
       " 'of',\n",
       " 'a',\n",
       " 'b',\n",
       " 'c']"
      ]
     },
     "execution_count": 36,
     "metadata": {},
     "output_type": "execute_result"
    }
   ],
   "source": [
    "# This is not what we want to obtain if what we want to do is concatenate lists!\n",
    "# Use the correct operator to concatenate the `to concatenate` list to the `selected_elements` list:\n",
    "to_concatenate = [\"a\", \"b\", \"c\"]\n",
    "selected_elements = a_string.split()[:10]\n",
    "selected_elements.extend(to_concatenate)\n",
    "selected_elements\n"
   ]
  },
  {
   "cell_type": "markdown",
   "id": "d44e8874",
   "metadata": {},
   "source": [
    "#### 0.1.2 Dictionaries"
   ]
  },
  {
   "cell_type": "code",
   "execution_count": 40,
   "id": "614e9c24",
   "metadata": {},
   "outputs": [
    {
     "data": {
      "text/plain": [
       "{'Betty': 5, 'Botter': 6, 'bought': 6}"
      ]
     },
     "execution_count": 40,
     "metadata": {},
     "output_type": "execute_result"
    }
   ],
   "source": [
    "# From the first three words of the word_list variable, create a dictionary with three entries.\n",
    "\n",
    "# For each entry:\n",
    "#   the keyword will be the word\n",
    "#   the value will be the length of the string (calculate it with `len()`)\n",
    "\n",
    "# (if you know them, you can use for loops)\n",
    "word_length = {word_list[0]: len(word_list[0]),\n",
    "               word_list[1]: len(word_list[1]),\n",
    "               word_list[2]: len(word_list[2])}\n",
    "               \n",
    "word_length"
   ]
  },
  {
   "cell_type": "code",
   "execution_count": 43,
   "id": "c80efa95",
   "metadata": {},
   "outputs": [
    {
     "data": {
      "text/plain": [
       "'Peppa'"
      ]
     },
     "execution_count": 43,
     "metadata": {},
     "output_type": "execute_result"
    }
   ],
   "source": [
    "# Retrieve the \"user\" element from the second dictionary of this list in a single operation:\n",
    "\n",
    "user_accesses = [dict(user=\"Gino\", time=\"12.02.2024-12:00:01\"),\n",
    "                 dict(user=\"Peppa\", time=\"04.04.2024-01:04:12\")]\n",
    "\n",
    "user_accesses[1][\"user\"]"
   ]
  }
 ],
 "metadata": {
  "kernelspec": {
   "display_name": "Python 3 (ipykernel)",
   "language": "python",
   "name": "python3"
  },
  "language_info": {
   "codemirror_mode": {
    "name": "ipython",
    "version": 3
   },
   "file_extension": ".py",
   "mimetype": "text/x-python",
   "name": "python",
   "nbconvert_exporter": "python",
   "pygments_lexer": "ipython3",
   "version": "3.11.6"
  }
 },
 "nbformat": 4,
 "nbformat_minor": 5
}
