{
 "cells": [
  {
   "cell_type": "markdown",
   "id": "03a44e75",
   "metadata": {},
   "source": [
    "# Practicals for lecture 0.3\n",
    "\n",
    "[![Open In Colab](https://colab.research.google.com/assets/colab-badge.svg)](https://colab.research.google.com/github/vigji/python-cimec-2025/blob/main/practicals/Practicals_0.3.ipynb)"
   ]
  },
  {
   "cell_type": "markdown",
   "id": "2d2a4f38",
   "metadata": {},
   "source": [
    "## Control structures"
   ]
  },
  {
   "cell_type": "markdown",
   "id": "58874096",
   "metadata": {},
   "source": [
    "#### 0.3.0 Iterations with `while`"
   ]
  },
  {
   "cell_type": "code",
   "execution_count": null,
   "id": "2398af5f",
   "metadata": {},
   "outputs": [
    {
     "name": "stdout",
     "output_type": "stream",
     "text": [
      "60\n"
     ]
    }
   ],
   "source": [
    "# Write a while loop over integer numbers incrementing the i \n",
    "# variably by one at every iteration, and stop when i\n",
    "# is a multiple of both 10 and 12:\n",
    "\n",
    "i = 1\n",
    "\n",
    "while i % 10 != 0 or i % 12 != 0:\n",
    "    i += 1 # equivalent to i = i + 1\n",
    "print(i)\n",
    "i = 1\n",
    "while True:\n",
    "    if i % 10 == 0 and i % 12 == 0:\n",
    "        break\n",
    "print(i)"
   ]
  },
  {
   "cell_type": "code",
   "execution_count": 2,
   "id": "5672c982",
   "metadata": {},
   "outputs": [
    {
     "name": "stdout",
     "output_type": "stream",
     "text": [
      "A random int: 5\n",
      "A random float: 9.923711820845856\n"
     ]
    }
   ],
   "source": [
    "# For the next exercise, we will need to generate random numbers. \n",
    "# You can produce random numbers with the `random` library, \n",
    "# after importing it (we will see `import` in details in the future).\n",
    "import random\n",
    "\n",
    "min_val = 2  # generated number will be >= than this min_val\n",
    "max_val = 10  # generated number will be <= than this max_val\n",
    "\n",
    "# To generate random integers between min_val and max_val, we can write:\n",
    "random_int = random.randint(min_val, max_val)\n",
    "print(f\"A random int: {random_int}\")\n",
    "\n",
    "# To generate random floats between min_val and max_val, we can write:\n",
    "random_float = random.uniform(min_val, max_val)\n",
    "print(f\"A random float: {random_float}\")"
   ]
  },
  {
   "cell_type": "code",
   "execution_count": 3,
   "id": "d0c106bb",
   "metadata": {},
   "outputs": [
    {
     "name": "stdout",
     "output_type": "stream",
     "text": [
      "tail\n",
      "tail\n",
      "tail\n",
      "head\n",
      "tail\n",
      "tail\n",
      "tail\n",
      "tail\n",
      "head\n",
      "tail\n"
     ]
    }
   ],
   "source": [
    "# Use random number generators with uniform probability and if conditional to write \n",
    "# a program that prints \"heads\" with probability 1/3 and \"tail\" with probability 2/3:\n",
    "# Hint: a number from a uniform distribution between 0 and 1 is less than p with probability p.\n",
    "\n",
    "p_heads = 1/3\n",
    "\n",
    "for i in range(10):\n",
    "    random_num = random.uniform(0, 1)\n",
    "\n",
    "    if random_num < p_heads:\n",
    "        coin_flip = \"head\"\n",
    "    else:\n",
    "        coin_flip = \"tail\"\n",
    "    print(coin_flip)"
   ]
  },
  {
   "cell_type": "code",
   "execution_count": 26,
   "id": "899b5706",
   "metadata": {},
   "outputs": [
    {
     "name": "stdout",
     "output_type": "stream",
     "text": [
      "3\n"
     ]
    }
   ],
   "source": [
    "# Create a Netflix session simulator using a while loop and conditionals.\n",
    "\n",
    "# While you are in the binging stream, you\n",
    "#   1) start watching a new episode! Use random.randint to generate a random rating from 1 to 10\n",
    "#   2) If it is a really crappy episode (score < 3 out of 10), you quit the binging loop\n",
    "\n",
    "# This is a distopic Netflix with series that can have infinite episodes\n",
    "# (the future of generative AI?)\n",
    "# You will stop watching if the episode is crappy!\n",
    "\n",
    "# At the end, print out the number of episodes watched in a session!\n",
    "crappiness_thr = 3\n",
    "episodes_count = 0\n",
    "\n",
    "while True:\n",
    "    episodes_count += 1\n",
    "    score = random.randint(1, 10)\n",
    "    \n",
    "    if score < crappiness_thr:\n",
    "        break\n",
    "\n",
    "print(episodes_count)\n",
    "\n"
   ]
  },
  {
   "cell_type": "code",
   "execution_count": 18,
   "id": "35703d6b",
   "metadata": {},
   "outputs": [
    {
     "name": "stdout",
     "output_type": "stream",
     "text": [
      "4\n"
     ]
    }
   ],
   "source": [
    "# Now we will improve the simulator adding a cliffhanger effect.\n",
    "# if the episode is really crappy, but there's an big cliffhanger\n",
    "# (probability of a cliffhanger: 1 out of 5), you keep watching anyway!\n",
    "\n",
    "# Rewrite below the while loop, but now define a cliffhanger variable.\n",
    "# that is True with probability 1/5 and can make you stay in the loop:\n",
    "\n",
    "crappiness_thr = 3\n",
    "cliffhanger_p = 1/5\n",
    "episodes_count = 0\n",
    "\n",
    "while True:\n",
    "    episodes_count += 1\n",
    "    score = random.randint(1, 10)\n",
    "    \n",
    "    if score < crappiness_thr:\n",
    "        # If episode is crappy, check for cliffhanger\n",
    "        has_cliffhanger = random.uniform(0, 1) < cliffhanger_p\n",
    "        if not has_cliffhanger:\n",
    "            break\n",
    "            \n",
    "print(episodes_count)"
   ]
  },
  {
   "cell_type": "code",
   "execution_count": 34,
   "id": "cc41ec3f",
   "metadata": {},
   "outputs": [
    {
     "name": "stdout",
     "output_type": "stream",
     "text": [
      "Average episodes watched: 6.61\n"
     ]
    }
   ],
   "source": [
    "# Use a for loop to run the simulator many times (like, 100? 1000?)\n",
    "# Each time, append to a list the result of the session (the number of episodes watched).\n",
    "n_simulations = 1000\n",
    "crappiness_thr = 3\n",
    "cliffhanger_p = 1/5\n",
    "\n",
    "n_watched_episodes_list = []\n",
    "\n",
    "for _ in range(n_simulations):  # the _ is a dummy variable name for when we do not really use the loop variable inside the loop\n",
    "    episodes_count = 0\n",
    "    while True:\n",
    "        episodes_count += 1\n",
    "        score = random.randint(1, 10)\n",
    "        \n",
    "        if score < crappiness_thr:\n",
    "            has_cliffhanger = random.uniform(0, 1) < cliffhanger_p\n",
    "            if not has_cliffhanger:\n",
    "                break\n",
    "                \n",
    "    n_watched_episodes_list.append(episodes_count)\n",
    "\n",
    "avg_episodes = sum(n_watched_episodes_list) / len(n_watched_episodes_list)\n",
    "print(f\"Average episodes watched: {avg_episodes:.2f}\")\n",
    "\n"
   ]
  },
  {
   "cell_type": "markdown",
   "id": "0cfa461e",
   "metadata": {},
   "source": [
    "### 0.3.1 Functions part 1"
   ]
  },
  {
   "cell_type": "code",
   "execution_count": 22,
   "id": "8ea3cedc",
   "metadata": {},
   "outputs": [
    {
     "data": {
      "text/plain": [
       "False"
      ]
     },
     "execution_count": 22,
     "metadata": {},
     "output_type": "execute_result"
    }
   ],
   "source": [
    "# Write a function called `is_even` that takes a number as input \n",
    "# and returns True if the number is even, and False if it's odd.\n",
    "# Hint: use modulo\n",
    "\n",
    "def is_even(num):\n",
    "    return num % 2 == 0\n",
    "\n",
    "is_even(1)"
   ]
  },
  {
   "cell_type": "code",
   "execution_count": 28,
   "id": "978c1da4",
   "metadata": {},
   "outputs": [
    {
     "data": {
      "text/plain": [
       "['###', 'list']"
      ]
     },
     "execution_count": 28,
     "metadata": {},
     "output_type": "execute_result"
    }
   ],
   "source": [
    "# Write a function that takes a string as an argument, \n",
    "# and returns a list where all words that are longer \n",
    "# than n=6 characters are replaced with \"###\".\n",
    "\n",
    "# Hint 1: before writing the function, write and test all the code as usual. \n",
    "# Only then you refactor it into a function.\n",
    "\n",
    "# Hint 2: Remember to use the `split` method of strings to split them into words\n",
    "\n",
    "example_input = \"Like the entomologist in search of colorful butterflies, my attention has chased in the gardens of the grey matter cells with delicate and elegant shapes, the mysterious butterflies of the soul, whose beating of wings may one day reveal to us the secrets of the mind.\"\n",
    "\n",
    "# your definition:\n",
    "def redact_words(input_string, ):\n",
    "    words = input_string.split()\n",
    "\n",
    "    for i, word in enumerate(words):\n",
    "        if len(word) > 6:\n",
    "            words[i] = \"###\"\n",
    "    return words\n",
    "\n",
    "redact_words(\"another list\")\n"
   ]
  },
  {
   "cell_type": "code",
   "execution_count": null,
   "id": "aba326da",
   "metadata": {},
   "outputs": [],
   "source": [
    "# Make the n of characters of the above function (currently 6) an argument of the function,\n",
    "# with a default value of 6:\n",
    "def redact_words(input_string, threshold=6):\n",
    "    words = input_string.split()\n",
    "\n",
    "    for i, word in enumerate(words):\n",
    "        if len(word) > threshold:\n",
    "            words[i] = \"###\"\n",
    "    return words\n"
   ]
  },
  {
   "cell_type": "markdown",
   "id": "3f86e9a8",
   "metadata": {},
   "source": [
    "### 0.3.2 Functions part 2"
   ]
  },
  {
   "cell_type": "code",
   "execution_count": 33,
   "id": "926a4478",
   "metadata": {},
   "outputs": [
    {
     "name": "stdout",
     "output_type": "stream",
     "text": [
      "[1, 2, 3]\n",
      "[1, 2, 3] [1, 2, 3]\n",
      "[1, 2, 3] [1, 2, 3]\n"
     ]
    }
   ],
   "source": [
    "# By just reading the code, can you predict what can be the issue in the following code?\n",
    "\n",
    "list_of_vals = [1,2,3]\n",
    "\n",
    "def multiply_values(numbers, coeff=2):\n",
    "    \"\"\"This function multiplies all values in a list by a given coefficient\"\"\"\n",
    "    # fix 1: numbers = numbers.copy()\n",
    "    # fix 2: result = []\n",
    "    for i in range(len(numbers)):\n",
    "        numbers[i] = numbers[i] * coeff\n",
    "        # fix 2 result.append(numbers[i] * coeff)\n",
    "    return numbers\n",
    "\n",
    "print(list_of_vals)\n",
    "double_vals = multiply_values(list_of_vals, 2)\n",
    "print(double_vals, list_of_vals)\n",
    "triple_vals = multiply_values(list_of_vals, 3)\n",
    "print(triple_vals, list_of_vals)\n",
    "\n",
    "# why are triple_vals not [3, 6, 9]?  \n",
    "\n",
    "\n",
    "\n",
    "# Hint: what happens to the input to the function after you call the function?\n",
    "# can you fix the function so that it does not change the input inplace?\n",
    "\n",
    "# The issue is that we are changing the input list in place as we compute the results.\n",
    "# The solutions can be either making a copy of the input list, or using a list to store the results."
   ]
  },
  {
   "cell_type": "code",
   "execution_count": 35,
   "id": "ba37202e",
   "metadata": {},
   "outputs": [
    {
     "name": "stdout",
     "output_type": "stream",
     "text": [
      "4.0\n"
     ]
    }
   ],
   "source": [
    "# Write a function that calculates the perimeter of an arbitrary polygon!\n",
    "# We can describe any polygon with a list of the coordinates of its vertices.\n",
    "\n",
    "# Write a function that takes as input a list of coordinates (each element\n",
    "# should be a list - or tuple! - containing two numbers, position over x and y),\n",
    "# and returns the perimeter of the polygon described by those vertices!\n",
    "# Hint: divide this operation over two functions: one to calculate the distances \n",
    "# between a polygon's vertices, the other to...\"   \n",
    "\n",
    "# Test it on a simple shape like a square to check if the solution is correct.\n",
    "\n",
    "\n",
    "def calc_distance(point1, point2):\n",
    "    x1, y1 = point1\n",
    "    x2, y2 = point2\n",
    "    return ((x2 - x1) ** 2 + (y2 - y1) ** 2) ** 0.5\n",
    "\n",
    "def calc_perimeter(coordinates):\n",
    "    perimeter = 0\n",
    "    for i in range(len(coordinates) - 1):\n",
    "        perimeter += calc_distance(coordinates[i], coordinates[i + 1])\n",
    "    return perimeter\n",
    "\n",
    "square_coordinates = [(0, 0), (1, 0), (1, 1), (0, 1), (0, 0)]  # we repeat the first point at the end to close the polygon\n",
    "print(calc_perimeter(square_coordinates))  # Should print 4.0"
   ]
  },
  {
   "cell_type": "code",
   "execution_count": 37,
   "id": "2e156222",
   "metadata": {},
   "outputs": [
    {
     "name": "stdout",
     "output_type": "stream",
     "text": [
      "[-0.15908649491210045, -0.8532821090739924, 1.4896280887223927, -1.5474777232358843, 0.36156021570931857, 0.7086580227902645]\n"
     ]
    }
   ],
   "source": [
    "# [Advanced] Write a function that takes as input a list, and returnes a Z-scored version of it\n",
    "# (z-scoring means trasforming so to have mean 0 and standard dev. 1).\n",
    "# Do not import functions from modules! \n",
    "# To do so, we will split the code over multiple functions:\n",
    "\n",
    "data_list = [2.1, 1.3, 4, 0.5, 2.7, 3.1]\n",
    "\n",
    "def calc_mean(numbers):\n",
    "    return sum(numbers) / len(numbers)\n",
    "\n",
    "def calc_std(numbers, mean=None):\n",
    "    if mean is None:  # eith this sintax we can efficiently compute the mean only if we don't have it already\n",
    "        mean = calc_mean(numbers)\n",
    "    squared_diff_sum = sum((x - mean) ** 2 for x in numbers)\n",
    "    return (squared_diff_sum / len(numbers)) ** 0.5\n",
    "\n",
    "def z_score(numbers):\n",
    "    mean = calc_mean(numbers)\n",
    "    std = calc_std(numbers, mean)\n",
    "    return [(x - mean) / std for x in numbers]\n",
    "\n",
    "data_list = [2.1, 1.3, 4, 0.5, 2.7, 3.1]\n",
    "z_scored = z_score(data_list)\n",
    "print(z_scored)"
   ]
  },
  {
   "cell_type": "code",
   "execution_count": 6,
   "id": "11590744",
   "metadata": {},
   "outputs": [
    {
     "name": "stdout",
     "output_type": "stream",
     "text": [
      "Square of 7: 49\n",
      "Random number: 2\n"
     ]
    }
   ],
   "source": [
    "# Advanced: inline definition of functions - lambda functions\n",
    "# Lambda functions (also called anonymous functions) are small, one-line functions \n",
    "# defined with the 'lambda' keyword. They can take any number of arguments \n",
    "# but consist only of one expression.\n",
    "\n",
    "# Traditional function:\n",
    "def add(x, y):\n",
    "    return x + y\n",
    "\n",
    "# Equivalent lambda function:\n",
    "add_lambda = lambda x, y: x + y\n",
    "\n",
    "# Mor examples:\n",
    "# 2. Lambda with a single argument\n",
    "square = lambda x: x**2\n",
    "print(f\"Square of 7: {square(7)}\")\n",
    "\n",
    "# 3. Lambda with no arguments\n",
    "get_random = lambda: random.randint(1, 100)\n",
    "print(f\"Random number: {get_random()}\")\n",
    "\n",
    "# 4. Lambda with conditional expression\n",
    "is_adult = lambda age: \"Adult\" if age >= 18 else \"Minor\"\n",
    "\n",
    "# You can use lambda functions when you need to pass a small function as argument to another method/function.\n",
    "\n",
    "# For example, we can pass a key argument to the sorted() function to specify how a list is sorted:\n",
    "\n",
    "words = [\"Alice\", \"Bob\", \"Fred\"]\n",
    "sorted_by_first_letter= sorted(words, key=lambda word: word[0])  # for every word, we select first char for sorting\n",
    "sorted_by_last_letter = sorted(words, key=lambda word: word[-1]) # for every word, we select last char for sorting\n",
    "\n",
    "# Lambda functions will be very handy for numpy and pandas operations!\n",
    "\n",
    "# Movie data\n",
    "movies = [\n",
    "    {\"title\": \"The Shawshank Redemption\", \"year\": 1994, \"rating\": 9.3},\n",
    "    {\"title\": \"The Godfather\", \"year\": 1972, \"rating\": 9.2},\n",
    "    {\"title\": \"Pulp Fiction\", \"year\": 1994, \"rating\": 8.9},\n",
    "    {\"title\": \"The Dark Knight\", \"year\": 2008, \"rating\": 9.0},\n",
    "    {\"title\": \"Fight Club\", \"year\": 1999, \"rating\": 8.8},\n",
    "]\n",
    "\n",
    "# 1: Sort movies by year (oldest first)\n",
    "by_year = sorted(movies, key=lambda m: m[\"year\"])\n",
    "print(\"By year:\", [f\"{m['title']} ({m['year']})\" for m in by_year])\n",
    "\n",
    "# 2: Sort movies by rating (highest first)\n",
    "by_rating = sorted(movies, key=lambda m: m[\"rating\"], reverse=True)\n",
    "print(\"By rating:\", [f\"{m['title']} ({m['rating']})\" for m in by_rating])\n",
    "\n",
    "# 3: Sort movies by title length (shortest first)\n",
    "by_title_length = sorted(movies, key=lambda m: len(m[\"title\"]))\n",
    "print(\"By title length:\", [f\"{m['title']} ({len(m['title'])})\" for m in by_title_length])\n"
   ]
  },
  {
   "cell_type": "code",
   "execution_count": 38,
   "id": "ce7982c0",
   "metadata": {},
   "outputs": [
    {
     "name": "stdout",
     "output_type": "stream",
     "text": [
      "helloworld!\n",
      "pythonisawesome\n"
     ]
    }
   ],
   "source": [
    "# Advanced: use functions as objects 1\n",
    "# functions (and methods) can be assigned to variables and passed around just like any other object!\n",
    "# Can you understand what the following code does? (see below for hints)\n",
    "\n",
    "cat = \"\".join\n",
    "\n",
    "# What is cat? What does it do?\n",
    "\n",
    "\n",
    "# cat is a reference to the join method of empty string\n",
    "# it concatenates a list of strings with empty string as separator\n",
    "\n",
    "# Example usage:\n",
    "strings = [\"hello\", \"world\", \"!\"]\n",
    "result = cat(strings)  # equivalent to \"\".join(strings)\n",
    "print(result)  # prints: helloworld!\n",
    "\n",
    "# Another example with different strings:\n",
    "words = [\"python\", \"is\", \"awesome\"]\n",
    "result = cat(words)  # equivalent to \"\".join(words)\n",
    "print(result)  # prints: pythonisawesome"
   ]
  },
  {
   "cell_type": "code",
   "execution_count": 39,
   "id": "bf602422",
   "metadata": {},
   "outputs": [
    {
     "name": "stdout",
     "output_type": "stream",
     "text": [
      "Original: [5, -3, 2, -1, 9, 4, -2, 0, 7]\n",
      "step_one_remove_negatives: [5, 0, 2, 0, 9, 4, 0, 0, 7]\n",
      "step_two_square_values: [25, 0, 4, 0, 81, 16, 0, 0, 49]\n",
      "step_three_normalize: [0.30864197530864196, 0.0, 0.04938271604938271, 0.0, 1.0, 0.19753086419753085, 0.0, 0.0, 0.6049382716049383]\n",
      "\n",
      "Final result using pipeline: [0.30864197530864196, 0.0, 0.04938271604938271, 0.0, 1.0, 0.19753086419753085, 0.0, 0.0, 0.6049382716049383]\n"
     ]
    }
   ],
   "source": [
    "# Advanced: use functions as objects 2\n",
    "\n",
    "# Let's create a data preprocessing pipeline using functions as objects!\n",
    "#\n",
    "# Below you have three simple preprocessing functions:\n",
    "#    - A function to remove negative numbers (replace them with 0)\n",
    "#    - A function to square all numbers\n",
    "#    - A function to normalize values (divide each by the maximum value)\n",
    "#\n",
    "# 1. Store these functions in a list\n",
    "#\n",
    "# 2. Use a loop to apply all preprocessing steps to a list of numbers\n",
    "#\n",
    "# 3. Test your pipeline on the provided data\n",
    "#\n",
    "# 4. Define a function that takes a list of numbers and a list of functions,\n",
    "#    and applies all functions to the list.\n",
    "\n",
    "\n",
    "# Sample data\n",
    "raw_data = [5, -3, 2, -1, 9, 4, -2, 0, 7]\n",
    "\n",
    "# Preprocessing functions\n",
    "def step_one_remove_negatives(numbers):\n",
    "    \"\"\"Replace negative values with 0\"\"\"\n",
    "    return [max(0, num) for num in numbers]\n",
    "\n",
    "def step_two_square_values(numbers):\n",
    "    \"\"\"Square all values in the list\"\"\"\n",
    "    return [num**2 for num in numbers]\n",
    "\n",
    "def step_three_normalize(numbers):\n",
    "    \"\"\"Normalize values by dividing by the maximum value\"\"\"\n",
    "    max_val = max(numbers) if numbers else 1  # Avoid division by zero\n",
    "    return [num/max_val for num in numbers]\n",
    "\n",
    "\n",
    "# 1. Store functions in a list\n",
    "preprocessing_steps = [\n",
    "    step_one_remove_negatives,\n",
    "    step_two_square_values, \n",
    "    step_three_normalize\n",
    "]\n",
    "\n",
    "# 2. Function to apply pipeline\n",
    "def apply_pipeline(data, functions):\n",
    "    result = data\n",
    "    for func in functions:\n",
    "        result = func(result)\n",
    "    return result\n",
    "\n",
    "# 3. Test pipeline\n",
    "raw_data = [5, -3, 2, -1, 9, 4, -2, 0, 7]\n",
    "processed_data = apply_pipeline(raw_data, preprocessing_steps)\n",
    "\n",
    "# Print results at each step to verify\n",
    "data = raw_data\n",
    "print(\"Original:\", data)\n",
    "for step in preprocessing_steps:\n",
    "    data = step(data)\n",
    "    print(f\"{step.__name__}:\", data)\n",
    "\n",
    "print(\"\\nFinal result using pipeline:\", processed_data)"
   ]
  },
  {
   "cell_type": "code",
   "execution_count": null,
   "id": "ff432dc9",
   "metadata": {},
   "outputs": [],
   "source": []
  }
 ],
 "metadata": {
  "kernelspec": {
   "display_name": "course-env",
   "language": "python",
   "name": "python3"
  },
  "language_info": {
   "codemirror_mode": {
    "name": "ipython",
    "version": 3
   },
   "file_extension": ".py",
   "mimetype": "text/x-python",
   "name": "python",
   "nbconvert_exporter": "python",
   "pygments_lexer": "ipython3",
   "version": "3.10.13"
  }
 },
 "nbformat": 4,
 "nbformat_minor": 5
}
