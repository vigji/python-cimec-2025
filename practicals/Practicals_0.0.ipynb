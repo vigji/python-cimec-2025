{
 "cells": [
  {
   "cell_type": "markdown",
   "id": "03a44e75",
   "metadata": {},
   "source": [
    "# Practicals for lecture 0.0\n",
    "\n",
    "[![Open In Colab](https://colab.research.google.com/assets/colab-badge.svg)](https://colab.research.google.com/github/vigji/python-cimec-2025/blob/main/practicals/Practicals_0.0.ipynb)"
   ]
  },
  {
   "cell_type": "markdown",
   "id": "356aaff5",
   "metadata": {},
   "source": [
    "### Practicals"
   ]
  },
  {
   "cell_type": "markdown",
   "id": "1b2a9c8a",
   "metadata": {},
   "source": [
    "####  0.0.0 Basic notebook usage"
   ]
  },
  {
   "cell_type": "code",
   "execution_count": null,
   "id": "0fa2575a",
   "metadata": {},
   "outputs": [],
   "source": [
    "# Explore the basic functionalities of a notebook.\n",
    "# Create a new comment cell and a new code cell below\n",
    "#  write anythin in the code cell and run it"
   ]
  },
  {
   "cell_type": "code",
   "execution_count": null,
   "id": "c8e9cfe5",
   "metadata": {},
   "outputs": [],
   "source": [
    "# this is a code cell"
   ]
  },
  {
   "cell_type": "markdown",
   "id": "f1441db6",
   "metadata": {},
   "source": [
    "This is a text cell"
   ]
  },
  {
   "cell_type": "markdown",
   "id": "28220626",
   "metadata": {},
   "source": [
    "#### 0.0.1 Variables and types"
   ]
  },
  {
   "cell_type": "code",
   "execution_count": 1,
   "id": "57d6d00d",
   "metadata": {},
   "outputs": [
    {
     "data": {
      "text/plain": [
       "1"
      ]
     },
     "execution_count": 1,
     "metadata": {},
     "output_type": "execute_result"
    }
   ],
   "source": [
    "# Assign to a variable the value 1. \n",
    "a_int = 1\n",
    "\n",
    "# To check the variable value, you can \n",
    "# either write the variable name in the last line of a cell,\n",
    "# Try to do it!\n",
    "a_int"
   ]
  },
  {
   "cell_type": "code",
   "execution_count": 3,
   "id": "b5be9133",
   "metadata": {},
   "outputs": [
    {
     "name": "stdout",
     "output_type": "stream",
     "text": [
      "1 <class 'int'>\n"
     ]
    }
   ],
   "source": [
    "# Use the print() and the type() function to show the variable value and type:\n",
    "print(a_int, type(a_int))  # we can print multiple things at once!"
   ]
  },
  {
   "cell_type": "code",
   "execution_count": null,
   "id": "d6a70423",
   "metadata": {},
   "outputs": [],
   "source": [
    "# Which of the following are not valid variable names?\n",
    "# \"a_float\"   -> valid\n",
    "# \"2var\"  -> invalid (starts with a number)\n",
    "# \"my-var\"  -> invalid (contains a dash)\n",
    "# \"my_var\"  -> valid\n",
    "# \"myVar\"  -> valid but not recommended (use uppercase)\n",
    "# \"class\"  -> invalid (built-in name to avoid)\n",
    "# \"my var\"  -> invalid (contains a space)\n"
   ]
  },
  {
   "cell_type": "markdown",
   "id": "9ce5ba5d",
   "metadata": {},
   "source": [
    "#### 0.0.2 Basic maths"
   ]
  },
  {
   "cell_type": "code",
   "execution_count": 4,
   "id": "8c099b85",
   "metadata": {},
   "outputs": [
    {
     "data": {
      "text/plain": [
       "117649.0"
      ]
     },
     "execution_count": 4,
     "metadata": {},
     "output_type": "execute_result"
    }
   ],
   "source": [
    "# Average those numbers: 49, 12, 86. then calculate the cube of the average and assign it to a variable.\n",
    "\n",
    "# Here and in future exercises, always replace the dots with your solution code!\n",
    "average = (49 + 12 + 86) / 3\n",
    "average_cubed = average ** 3\n",
    "average_cubed"
   ]
  },
  {
   "cell_type": "code",
   "execution_count": 5,
   "id": "92c30b30",
   "metadata": {},
   "outputs": [
    {
     "data": {
      "text/plain": [
       "117649"
      ]
     },
     "execution_count": 5,
     "metadata": {},
     "output_type": "execute_result"
    }
   ],
   "source": [
    "# Convert the result to an integer and print it! To convert to integer, you can use the int() function\n",
    "\n",
    "int_average_cubed = int(average_cubed)\n",
    "int_average_cubed\n"
   ]
  },
  {
   "cell_type": "code",
   "execution_count": 6,
   "id": "8316e465",
   "metadata": {},
   "outputs": [
    {
     "name": "stdout",
     "output_type": "stream",
     "text": [
      "2 2\n"
     ]
    }
   ],
   "source": [
    "# Assign to two variables the integer quotient and remainder from the following calculation: 12 divided by 5\n",
    "quotient = 12 // 5\n",
    "remainder = 12 % 5\n",
    "print(quotient, remainder)\n"
   ]
  },
  {
   "cell_type": "code",
   "execution_count": 7,
   "id": "6ea68155",
   "metadata": {},
   "outputs": [
    {
     "name": "stdout",
     "output_type": "stream",
     "text": [
      "False\n"
     ]
    }
   ],
   "source": [
    "# [Advanced] The tricky business of floating point numbers\n",
    "# Create a variable that stores 0.1 + 0.2\n",
    "# Create another variable that stores 0.3\n",
    "\n",
    "# Print whether they are equal (using ==)...what is happening? google it out\n",
    "# Can you find the difference?\n",
    "# can you rewrite the comparison to account for the precision? (Hint: define a tolerance)\n",
    "\n",
    "a = 0.1 + 0.2\n",
    "b = 0.3\n",
    "print(a == b)\n",
    "\n",
    "# Check the difference with a tolerance\n",
    "tolerance = 1e-10  # this is same as 0.0000000001\n",
    "print(abs(a - b) < tolerance)  # abs() returns the absolute value of the difference, to avoid sign issues\n",
    "\n"
   ]
  },
  {
   "cell_type": "markdown",
   "id": "a9ff7c1e",
   "metadata": {},
   "source": [
    "#### 0.0.3 Boolean aritmetics"
   ]
  },
  {
   "cell_type": "code",
   "execution_count": 8,
   "id": "49e60625",
   "metadata": {},
   "outputs": [
    {
     "name": "stdout",
     "output_type": "stream",
     "text": [
      "True\n",
      "True\n"
     ]
    }
   ],
   "source": [
    "# Define a variable a and a variable b. Then, assign a variable both_types_int that is true if both \n",
    "# variables have int as their type. Change the values of a and b to check the results!\n",
    "\n",
    "a = 1\n",
    "b = 2\n",
    "\n",
    "both_types_int = type(a) == int and type(b) == int\n",
    "print(both_types_int)\n",
    "\n",
    "# There is a better way to do this, using the isinstance() function:\n",
    "both_types_int = isinstance(a, int) and isinstance(b, int)\n",
    "print(both_types_int)\n"
   ]
  },
  {
   "cell_type": "code",
   "execution_count": 12,
   "id": "e8c9084e",
   "metadata": {},
   "outputs": [
    {
     "name": "stdout",
     "output_type": "stream",
     "text": [
      "True\n"
     ]
    }
   ],
   "source": [
    "# Create a variable that checks if a number is both even and positive\n",
    "# Hint: remember the modulo operator...\n",
    "number = 42\n",
    "is_even_and_positive = number % 2 == 0 and number > 0\n",
    "print(is_even_and_positive)"
   ]
  },
  {
   "cell_type": "code",
   "execution_count": 14,
   "id": "810bae70",
   "metadata": {},
   "outputs": [
    {
     "data": {
      "text/plain": [
       "0"
      ]
     },
     "execution_count": 14,
     "metadata": {},
     "output_type": "execute_result"
    }
   ],
   "source": [
    "# [Advanced]\n",
    "# Rectified Linear Units (ReLU) are the most common activation function in neural networks.\n",
    "# See: https://en.wikipedia.org/wiki/Rectifier_(neural_networks)\n",
    "# Implement a ReLU (Rectified Linear Unit) operation without using if statements\n",
    "# ReLU returns:\n",
    "# - the number itself if it's positive\n",
    "# - zero if it's negative or zero\n",
    "# Hint: use boolean arithmetic and multiplication\n",
    " \n",
    "x = -3\n",
    "relu_x = x * (x > 0)\n",
    "relu_x"
   ]
  }
 ],
 "metadata": {
  "kernelspec": {
   "display_name": "course-env",
   "language": "python",
   "name": "python3"
  },
  "language_info": {
   "codemirror_mode": {
    "name": "ipython",
    "version": 3
   },
   "file_extension": ".py",
   "mimetype": "text/x-python",
   "name": "python",
   "nbconvert_exporter": "python",
   "pygments_lexer": "ipython3",
   "version": "3.10.13"
  }
 },
 "nbformat": 4,
 "nbformat_minor": 5
}
