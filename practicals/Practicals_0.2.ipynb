{
 "cells": [
  {
   "cell_type": "markdown",
   "id": "e26640ea",
   "metadata": {
    "id": "e26640ea"
   },
   "source": [
    "# Practicals for lecture 0.2\n",
    "\n",
    "[![Open In Colab](https://colab.research.google.com/assets/colab-badge.svg)](https://colab.research.google.com/github/vigji/python-cimec-2025/blob/main/practicals/Practicals_0.2.ipynb)"
   ]
  },
  {
   "cell_type": "markdown",
   "id": "e0c52ebb",
   "metadata": {
    "id": "e0c52ebb"
   },
   "source": [
    "#### 0.2.0 Tuples"
   ]
  },
  {
   "cell_type": "code",
   "execution_count": 2,
   "id": "61ae9855",
   "metadata": {
    "id": "61ae9855"
   },
   "outputs": [
    {
     "data": {
      "text/plain": [
       "('Betty',\n",
       " 'Botter',\n",
       " 'bought',\n",
       " 'some',\n",
       " 'butter',\n",
       " 'but,',\n",
       " 'said',\n",
       " 'she,',\n",
       " 'the',\n",
       " 'butter’s',\n",
       " 'bitter.',\n",
       " 'If',\n",
       " 'I',\n",
       " 'put',\n",
       " 'it',\n",
       " 'in',\n",
       " 'my',\n",
       " 'batter,',\n",
       " 'it',\n",
       " 'will',\n",
       " 'make',\n",
       " 'my',\n",
       " 'batter',\n",
       " 'bitter.',\n",
       " 'Betty',\n",
       " 'Botter',\n",
       " 'bought',\n",
       " 'some',\n",
       " 'butter',\n",
       " 'but,',\n",
       " 'said',\n",
       " 'she,',\n",
       " 'the',\n",
       " 'butter’s',\n",
       " 'bitter.',\n",
       " 'If',\n",
       " 'I',\n",
       " 'put',\n",
       " 'it',\n",
       " 'in',\n",
       " 'my',\n",
       " 'batter,',\n",
       " 'it',\n",
       " 'will',\n",
       " 'make',\n",
       " 'my',\n",
       " 'batter',\n",
       " 'bitter.')"
      ]
     },
     "execution_count": 2,
     "metadata": {},
     "output_type": "execute_result"
    }
   ],
   "source": [
    "text = \" Betty Botter bought some butter but, said she, the butter’s bitter. If I put it in my batter, it will make my batter bitter.\"\n",
    "word_list = text.split()\n",
    "\n",
    "# Convert to a tuple the word list `word_list` defined above.\n",
    "word_tuple = tuple(word_list)\n",
    "\n",
    "# Can you change the first element of the tuple? \n",
    "# Can you try appending new values?\n",
    "# Can you use the +/* operators?\n",
    "# word_tuple[0] = \"pippo\"\n",
    "word_tuple[0] = 1. # no, attribute error when modifying\n",
    "word_tuple * 2  # yes, we just generate new tuple, so no modification\n",
    "word_tuple.append(\"pippo\")  # no! attribute error when modifying"
   ]
  },
  {
   "cell_type": "markdown",
   "id": "c7a1589a",
   "metadata": {
    "id": "c7a1589a"
   },
   "source": [
    "#### 0.2.1 Sets"
   ]
  },
  {
   "cell_type": "code",
   "execution_count": 5,
   "id": "f215b3a8",
   "metadata": {
    "id": "f215b3a8"
   },
   "outputs": [
    {
     "data": {
      "text/plain": [
       "False"
      ]
     },
     "execution_count": 5,
     "metadata": {},
     "output_type": "execute_result"
    }
   ],
   "source": [
    "# We want to know if two lists of values contain the same items.\n",
    "\n",
    "items_list1 = [20, 19, 32, 1, 3, 45, 2, 5, 4, 12, 7]\n",
    "items_list2 = [45, 2, 12, 19, 32, 4, 7, 3, 5, 1, 20]\n",
    "\n",
    "# Can we just check if the lists are the same with a `==` operation? If no, why?\n",
    "items_list1 == items_list2\n"
   ]
  },
  {
   "cell_type": "code",
   "execution_count": 6,
   "id": "8f249317",
   "metadata": {
    "id": "8f249317"
   },
   "outputs": [
    {
     "data": {
      "text/plain": [
       "True"
      ]
     },
     "execution_count": 6,
     "metadata": {},
     "output_type": "execute_result"
    }
   ],
   "source": [
    "# Try then to convert them to set before performing the comparison:\n",
    "set(items_list1) == set(items_list2)\n"
   ]
  },
  {
   "cell_type": "code",
   "execution_count": 10,
   "id": "885efb60",
   "metadata": {
    "id": "885efb60"
   },
   "outputs": [
    {
     "data": {
      "text/plain": [
       "{'Christian'}"
      ]
     },
     "execution_count": 10,
     "metadata": {},
     "output_type": "execute_result"
    }
   ],
   "source": [
    "# Use sets operations to find the a place that might fit the preferences of Mark, Melissa and Mattew:\n",
    "mark_top_three = [\"Putipù\", \"Pizzangolo\", \"Christian\"]\n",
    "melissa_top_three = [\"Dogali\", \"Christian\", \"River\"]\n",
    "mattew_top_three = [\"Christian\", \"Putipù\", \"Pizzangolo\"]\n",
    "\n",
    "mark_top_three_set = set(mark_top_three)\n",
    "melissa_top_three_set = set(melissa_top_three)\n",
    "mattew_top_three_set = set(mattew_top_three)\n",
    "\n",
    "\n",
    "intersect_a_b = mark_top_three_set.intersection(melissa_top_three_set)\n",
    "intersect_b_c = melissa_top_three_set.intersection(mattew_top_three_set)\n",
    "\n",
    "intersect_a_b.intersection(intersect_b_c)\n",
    "\n",
    "\n",
    "mark_top_three_set.intersection(melissa_top_three_set).intersection(mattew_top_three_set)\n"
   ]
  },
  {
   "cell_type": "code",
   "execution_count": 12,
   "id": "694c734b",
   "metadata": {
    "id": "694c734b"
   },
   "outputs": [
    {
     "data": {
      "text/plain": [
       "True"
      ]
     },
     "execution_count": 12,
     "metadata": {},
     "output_type": "execute_result"
    }
   ],
   "source": [
    "# Combine what you know about sets and strings and test if word1 is an anagram of word2:\n",
    "word1 = \"listen\"\n",
    "word2 = \"silent\"\n",
    "\n",
    "set(word1) == set(word2)\n",
    "\n"
   ]
  },
  {
   "cell_type": "code",
   "execution_count": null,
   "id": "02b8eeca",
   "metadata": {
    "id": "02b8eeca"
   },
   "outputs": [],
   "source": [
    "# [Advanced] Efficiency of search operations\n",
    "# Let's compare how fast it is to search in lists vs sets!\n",
    "# First, let's create a large list of numbers and convert it to a set\n",
    "import time\n",
    "\n",
    "# Create a large list of numbers\n",
    "numbers = list(range(10_000_000))  # 10 million numbers\n",
    "number_set = set(numbers)         # convert to set\n",
    "\n",
    "# If you play around changing the number to search, you can maybe understand\n",
    "# why list search is so slow...\n",
    "number_to_search = 9_999_999\n",
    "\n",
    "# Time list search\n",
    "start_time = time.time()  # this is a function that returns the current time\n",
    "## code for search in list here\n",
    "list_time = time.time() - start_time  # delta time gets us the time spent executing code in between\n",
    "\n",
    "# Time set search\n",
    "start_time = time.time()\n",
    "## code for search in set here\n",
    "set_time = time.time() - start_time\n",
    "\n",
    "#Calculate the ratio of the time it takes to search in a set vs a list, and print it:"
   ]
  },
  {
   "cell_type": "code",
   "execution_count": null,
   "id": "e07ed737",
   "metadata": {
    "id": "e07ed737"
   },
   "outputs": [],
   "source": [
    "# [Advance, part 2]\n",
    "# Can you use a list as the key of a dictionary? Can you use a tuple?\n",
    "# Try it out, and then think about why this is the case considering what you discovered in the previous exercise.\n"
   ]
  },
  {
   "cell_type": "markdown",
   "id": "2d2a4f38",
   "metadata": {
    "id": "2d2a4f38"
   },
   "source": [
    "## Flow control"
   ]
  },
  {
   "cell_type": "markdown",
   "id": "5066fd11",
   "metadata": {
    "id": "5066fd11"
   },
   "source": [
    "#### 0.2.2 Conditionals with `if`"
   ]
  },
  {
   "cell_type": "code",
   "execution_count": 17,
   "id": "01da4096",
   "metadata": {
    "id": "01da4096"
   },
   "outputs": [
    {
     "name": "stdout",
     "output_type": "stream",
     "text": [
      "odd\n"
     ]
    }
   ],
   "source": [
    "# Write a program that prints out if a given number is even or odd (tip: use the modulo operator %)\n",
    "\n",
    "number_to_test = 31  # change the value of this variable to test other cases\n",
    "\n",
    "if number_to_test % 2 == 0:\n",
    "    print(\"even\")\n",
    "else:\n",
    "    print(\"odd\")"
   ]
  },
  {
   "cell_type": "code",
   "execution_count": 18,
   "id": "021d9f83",
   "metadata": {
    "id": "021d9f83",
    "outputId": "e07ef765-dfdf-423e-9d52-0f8f5df6d7cd"
   },
   "outputs": [
    {
     "name": "stdout",
     "output_type": "stream",
     "text": [
      "Palindrome!\n"
     ]
    }
   ],
   "source": [
    "# Write code that checks out if a string is a palindrome, and if it is, prints \"{word} is palindrome!\"\n",
    "# Hint: remember how to revert a string with indices...\n",
    "\n",
    "word = \"kayak\"\n",
    "\n",
    "if word == word[::-1]:\n",
    "    print(\"Palindrome!\")"
   ]
  },
  {
   "cell_type": "code",
   "execution_count": 2,
   "id": "7c86051e",
   "metadata": {
    "id": "7c86051e"
   },
   "outputs": [
    {
     "data": {
      "text/plain": [
       "4"
      ]
     },
     "execution_count": 2,
     "metadata": {},
     "output_type": "execute_result"
    }
   ],
   "source": [
    "# The code below gives you electrophysiological data\n",
    "# consisting of a list of 0s and 1s, where the ones\n",
    "# correspond to the occurrence of action potentials.\n",
    "# The trace is 1 second long - so the firing rate correspond to the number of spikes\n",
    "# (you do not care about the function content right now)\n",
    "def generate_trace(seed=1, trace_len=1000, firing_rate=5):\n",
    "    \"\"\"Generate a list with action potential occurrencies.\"\"\"\n",
    "    import random\n",
    "    random.seed(seed)\n",
    "\n",
    "    return [int(random.randint(0, 1000) < firing_rate) for _ in range(trace_len)]\n",
    "\n",
    "neuron_trace = generate_trace()\n",
    "\n",
    "# Compute the firing rate i.e. the number of action potentials per second for the neuron:\n",
    "firing_rate = sum(neuron_trace)\n",
    "firing_rate"
   ]
  },
  {
   "cell_type": "code",
   "execution_count": 3,
   "id": "deb396af",
   "metadata": {
    "id": "deb396af",
    "outputId": "40f77801-56a7-4604-a8a0-07433dd63af1"
   },
   "outputs": [
    {
     "name": "stdout",
     "output_type": "stream",
     "text": [
      "high firing rate\n"
     ]
    }
   ],
   "source": [
    "# Now print \"high firing rate\" if rate is > 10 Hz,\n",
    "# \"medium firing rate\" if rate is between 5 and 10 Hz, and\n",
    "# \"low firing rate\" if rate is lower than 5 Hz:\n",
    "firing_rate = 70\n",
    "if firing_rate > 10:\n",
    "    print(\"high firing rate\")\n",
    "elif firing_rate > 5:\n",
    "    print(\"medium\")\n",
    "else:\n",
    "    print(\"low\")"
   ]
  },
  {
   "cell_type": "code",
   "execution_count": 5,
   "id": "d04bd6cc",
   "metadata": {
    "id": "d04bd6cc",
    "outputId": "446296de-4fdc-424f-c9d6-fac96be1954b"
   },
   "outputs": [
    {
     "name": "stdout",
     "output_type": "stream",
     "text": [
      "high_firing_rate\n"
     ]
    }
   ],
   "source": [
    "# [Advanced]\n",
    "# Python offers a compact way to write simple if-else statements called conditional expressions\n",
    "# (sometimes called the \"ternary operator\"). It follows the pattern:\n",
    "# value_if_true if condition else value_if_false\n",
    "# Moreover, conditional expressions can be nested:\n",
    "# a = 1 if 2 > 1 else 0 if 1 > 2 else 2\n",
    "\n",
    "# use a one-line solution for the neuron classification problem above:\n",
    "label = \"high_firing_rate\" if firing_rate > 10 else \"medium_firing_rate\" if firing_rate > 5 else \"low_firing_rate\"\n",
    "print(label)"
   ]
  },
  {
   "cell_type": "code",
   "execution_count": 7,
   "id": "8c5cddc8",
   "metadata": {
    "id": "8c5cddc8",
    "outputId": "45431168-208a-43ae-9c71-7edcea72a4b3"
   },
   "outputs": [
    {
     "name": "stdout",
     "output_type": "stream",
     "text": [
      "Got here with no error!\n"
     ]
    }
   ],
   "source": [
    "# [Advanced]\n",
    "# Short-circuit evaluation\n",
    "# Python evaluates expressions from left to right and stops when the result is determined.\n",
    "# This is called short-circuit evaluation.\n",
    "# For example, in an `and` expression, if the first expression is `False`, the second is not evaluated.\n",
    "# Fix this conditional statem so that it does not produce an error anymore, without adding any other condition!\n",
    "denominator = 0\n",
    "numerator = 10\n",
    "\n",
    "if denominator != 0 and numerator / denominator > 10:  # we can just invert the conditions!\n",
    "    pass\n",
    "print(\"Got here with no error!\")\n"
   ]
  },
  {
   "cell_type": "code",
   "execution_count": 10,
   "id": "9-lWInIlc_-F",
   "metadata": {
    "id": "9-lWInIlc_-F"
   },
   "outputs": [
    {
     "ename": "ZeroDivisionError",
     "evalue": "division by zero",
     "output_type": "error",
     "traceback": [
      "\u001b[0;31m---------------------------------------------------------------------------\u001b[0m",
      "\u001b[0;31mZeroDivisionError\u001b[0m                         Traceback (most recent call last)",
      "Cell \u001b[0;32mIn[10], line 4\u001b[0m\n\u001b[1;32m      1\u001b[0m \u001b[38;5;66;03m# Short circuit evaluation continued\u001b[39;00m\n\u001b[1;32m      2\u001b[0m \u001b[38;5;66;03m# Now, in your successful conditional statement (the one with no error), change 'and' to '&'. What happens?\u001b[39;00m\n\u001b[1;32m      3\u001b[0m \u001b[38;5;66;03m# This is the first catch when considering whether to use and or &, we'll encounter more!\u001b[39;00m\n\u001b[0;32m----> 4\u001b[0m denominator \u001b[38;5;241m!=\u001b[39m \u001b[38;5;241m0\u001b[39m \u001b[38;5;241m&\u001b[39m \u001b[43mnumerator\u001b[49m\u001b[43m \u001b[49m\u001b[38;5;241;43m/\u001b[39;49m\u001b[43m \u001b[49m\u001b[43mdenominator\u001b[49m \u001b[38;5;241m>\u001b[39m \u001b[38;5;241m10\u001b[39m\n\u001b[1;32m      5\u001b[0m \u001b[38;5;66;03m# In this case both conditions are evaluated, so we get a division by zero error!\u001b[39;00m\n",
      "\u001b[0;31mZeroDivisionError\u001b[0m: division by zero"
     ]
    }
   ],
   "source": [
    "# Short circuit evaluation continued\n",
    "# Now, in your successful conditional statement (the one with no error), change 'and' to '&'. What happens?\n",
    "# This is the first catch when considering whether to use and or &, we'll encounter more!\n",
    "denominator != 0 & numerator / denominator > 10\n",
    "# In this case both conditions are evaluated, so we get a division by zero error!\n"
   ]
  },
  {
   "cell_type": "code",
   "execution_count": 11,
   "id": "195665d9",
   "metadata": {
    "id": "195665d9",
    "outputId": "b08a310c-4933-4891-fcc8-49ca1ed99729"
   },
   "outputs": [
    {
     "name": "stdout",
     "output_type": "stream",
     "text": [
      "5\n"
     ]
    }
   ],
   "source": [
    "# [Advanced]\n",
    "# You can use short circuit evaluation to assign inline variables safely, knowning that if\n",
    "# the left part is true, the value on the right is assigned to the variable, otherwise the variable\n",
    "# is false.\n",
    "\n",
    "a = True  # play with true and false\n",
    "b = 5  # play with different values\n",
    "c = a and b\n",
    "print(c)\n",
    "\n",
    "# Can you use this to define a variable that is the last element of a list, or False if the list is empty?\n",
    "test_list = [1, 2, 3]  # try with an empty list too\n",
    "safe_last_element = test_list[-1] if test_list else False\n",
    "\n"
   ]
  },
  {
   "cell_type": "markdown",
   "id": "8bc85d05",
   "metadata": {
    "id": "8bc85d05"
   },
   "source": [
    "#### 0.2.3 Iterations with for"
   ]
  },
  {
   "cell_type": "code",
   "execution_count": 26,
   "id": "1e1d414f",
   "metadata": {
    "id": "1e1d414f"
   },
   "outputs": [
    {
     "data": {
      "text/plain": [
       "['person',\n",
       " 'could,',\n",
       " 'they',\n",
       " 'were',\n",
       " 'inclined,',\n",
       " 'sculptor',\n",
       " 'their',\n",
       " 'brain.']"
      ]
     },
     "execution_count": 26,
     "metadata": {},
     "output_type": "execute_result"
    }
   ],
   "source": [
    "# Split the words of this long sentence in a list:\n",
    "a_sentence = \"Any person could, if they were so inclined, be the sculptor of their own brain.\"\n",
    "word_list = a_sentence.split()\n",
    "\n",
    "# now initialize an empty list and append to it only the words that are longer than 3 characters:\n",
    "long_words = []\n",
    "\n",
    "for word in word_list:\n",
    "    \n",
    "    if len(word) > 3:\n",
    "        long_words.append(word)\n",
    "        \n",
    "long_words"
   ]
  },
  {
   "cell_type": "code",
   "execution_count": 27,
   "id": "fdd086e1",
   "metadata": {
    "id": "fdd086e1"
   },
   "outputs": [],
   "source": [
    "# Can you do the same operation in one line with a list comprehension?\n",
    "\n",
    "long_words = [word for word in word_list if len(word) > 3]  # use a one-line solution!"
   ]
  },
  {
   "cell_type": "code",
   "execution_count": 13,
   "id": "f7eed002",
   "metadata": {
    "id": "f7eed002"
   },
   "outputs": [
    {
     "data": {
      "text/plain": [
       "[7, 4, 5, 3, 5, 7, 8, 7, 3, 3]"
      ]
     },
     "execution_count": 13,
     "metadata": {},
     "output_type": "execute_result"
    }
   ],
   "source": [
    "# Here we use the function defined above to generate a list of traces for 10 neurons:\n",
    "neuron_traces = [generate_trace(seed=i) for i in range(10)]\n",
    "\n",
    "# Now compute the firing rate for each neuron and put it in a list; you can try to use a single line!m\n",
    "firing_rate_list = []\n",
    "\n",
    "for neuron_trace in neuron_traces:\n",
    "    firing_rate = sum(neuron_trace)\n",
    "    firing_rate_list.append(firing_rate)\n",
    "firing_rate_list"
   ]
  },
  {
   "cell_type": "code",
   "execution_count": 14,
   "id": "b9d71cae",
   "metadata": {
    "id": "b9d71cae"
   },
   "outputs": [
    {
     "data": {
      "text/plain": [
       "5.2"
      ]
     },
     "execution_count": 14,
     "metadata": {},
     "output_type": "execute_result"
    }
   ],
   "source": [
    "# Next, compute the average firing rate across all neurons:\n",
    "sum(firing_rate_list) / len(firing_rate_list)"
   ]
  },
  {
   "cell_type": "code",
   "execution_count": 15,
   "id": "75e38951",
   "metadata": {
    "id": "75e38951"
   },
   "outputs": [
    {
     "data": {
      "text/plain": [
       "5.2"
      ]
     },
     "execution_count": 15,
     "metadata": {},
     "output_type": "execute_result"
    }
   ],
   "source": [
    "# If you haven't, can you do the above operations in one line using a list comprehension?\n",
    "firing_rates = [sum(neuron_trace) for neuron_trace in neuron_traces]\n",
    "sum(firing_rates) / len(firing_rates)\n"
   ]
  },
  {
   "cell_type": "code",
   "execution_count": 16,
   "id": "491d3ed6",
   "metadata": {
    "id": "491d3ed6"
   },
   "outputs": [],
   "source": [
    "# Now store firing rates in a dictionary with keys going from \"neuron_0\" to \"neuron_9\"\n",
    "# You can either use a for loop (after initializing an empty dictionary)\n",
    "# or a dictionary comprehension.\n",
    "# Hint: you can use the `enumerate` function to get both the index and the value of a list.\n",
    "\n",
    "firing_rates_dict = {}\n",
    "\n",
    "for i, firing_rate in enumerate(firing_rates):\n",
    "    firing_rates_dict[f\"neuron_{i}\"] = firing_rate\n",
    "firing_rates_dict\n"
   ]
  },
  {
   "cell_type": "code",
   "execution_count": 17,
   "id": "02e9a149",
   "metadata": {
    "id": "02e9a149"
   },
   "outputs": [],
   "source": [
    "# Iter over the dictionary keys and values and create a list with the neurons that have a firing rate > 5 Hz:\n",
    "\n",
    "high_firing_rate_list = [f\"neuron_{i}\" for i, firing_rate in enumerate(firing_rates) if firing_rate > 5]\n"
   ]
  },
  {
   "cell_type": "code",
   "execution_count": 20,
   "id": "1da12927",
   "metadata": {
    "id": "1da12927",
    "outputId": "8119d086-7a3d-4e9f-c79b-10784747022c"
   },
   "outputs": [
    {
     "name": "stdout",
     "output_type": "stream",
     "text": [
      "Time taken: -0.10809803009033203 seconds\n",
      "Time taken: -0.13649797439575195 seconds\n",
      "Ratio: 0.7919387124157663\n"
     ]
    }
   ],
   "source": [
    "# [Advanced]\n",
    "# Performance of list comprehensions vs for loops\n",
    "# List comprehensions are faster than for loops in Python!  (slightly)\n",
    "# Let's try to dig deeper into this:\n",
    "import time\n",
    "import random\n",
    "\n",
    "# Task: Use a list comprehension to square all numbers greater than 50 from this list,\n",
    "# using a traditional for loop with if and append and a list comprehension.\n",
    "\n",
    "# Print the resulting times and check out their ratio!\n",
    "\n",
    "data = [random.randint(1, 100) for _ in range(1_000_000)]  #select numbers > 50 from here\n",
    "\n",
    "\n",
    "start_time = time.time()\n",
    "squared_data = [x**2 for x in data if x > 50]\n",
    "end_time1 = start_time -time.time()\n",
    "print(f\"Time taken: {end_time1} seconds\" )\n",
    "\n",
    "start_time = time.time()\n",
    "squared_data = []\n",
    "for x in data:\n",
    "    if x > 50:\n",
    "        squared_data.append(x**2)\n",
    "end_time2 = start_time - time.time()\n",
    "print(f\"Time taken: {end_time2} seconds\")\n",
    "\n",
    "print(f\"Ratio: {end_time1 / end_time2}\")\n"
   ]
  },
  {
   "cell_type": "code",
   "execution_count": 21,
   "id": "5d849d66",
   "metadata": {
    "id": "5d849d66"
   },
   "outputs": [
    {
     "name": "stdout",
     "output_type": "stream",
     "text": [
      "The value of x is 10 and a is 15\n",
      "The sum 15 is greater than 10\n",
      "The sum 15 is greater than 10\n"
     ]
    }
   ],
   "source": [
    "# [Advanced]\n",
    "# The funnily named walrus operator (:=) allows you to assign values to\n",
    "# variables as part of an expression. (it was only added in Python 3.8, won't work in older versions)\n",
    "#\n",
    "# This can make your code more concise in certain situations (and less readable in others...)\n",
    "\n",
    "# In a simple statement, you can for example write:\n",
    "# Basic assignment in an expression\n",
    "a = (x := 10) + 5  # Assigns 10 to x and evaluates to 15\n",
    "print(f\"The value of x is {x} and a is {a}\")\n",
    "\n",
    "# Use the walrus operator in the following if statement to avoid the explicit assignment of the sum to a variable\n",
    "numbers = [1, 2, 3, 4, 5]\n",
    "total = sum(numbers)  # remove this line using the walrus operator\n",
    "if total > 10:\n",
    "    print(f\"The sum {total} is greater than 10\")\n",
    "\n",
    "# your solution:\n",
    "if (total := sum(numbers)) > 10:\n",
    "    print(f\"The sum {total} is greater than 10\")"
   ]
  },
  {
   "cell_type": "code",
   "execution_count": 32,
   "id": "ZkzfNbf9cyH1",
   "metadata": {
    "id": "ZkzfNbf9cyH1"
   },
   "outputs": [
    {
     "data": {
      "text/plain": [
       "'sub-002_ses-1_task-faces_scan.nii.gz'"
      ]
     },
     "execution_count": 32,
     "metadata": {},
     "output_type": "execute_result"
    }
   ],
   "source": [
    "# [Advanced]\n",
    "# Nested dictionaries\n",
    "# Imagine that you have acquired a dataset of 8 scans, from 4 subjects with 2 sessions per subjects\n",
    "# You also have 3 tasks during your scans, but you randomized them across sessions and subjects\n",
    "# so every time that you want to load a scan by typing out the full name, you are forced to check in your notes which task you administered\n",
    "scan_list = ['sub-001_ses-1_task-rest_scan.nii.gz', 'sub-001_ses-2_task-cards_scan.nii.gz', 'sub-002_ses-1_task-faces_scan.nii.gz', 'sub-002_ses-2_task-rest_scan.nii.gz',\n",
    "             'sub-003_ses-1_task-faces_scan.nii.gz', 'sub-003_ses-2_task-rest_scan.nii.gz', 'sub-004_ses-1_task-cards_scan.nii.gz', 'sub-004_ses-2_task-faces_scan.nii.gz']\n",
    "\n",
    "# Create a nested dictionary so that you can output the full scan name in one line simply by knowing which subject and session you want\n",
    "# You can do this manually or in a for loop using string manipulation techniques\n",
    "nested_dict = {}\n",
    "for scan in scan_list:\n",
    "    subject = scan.split('_')[0].split('-')[1]\n",
    "    session = scan.split('_')[1].split('-')[1]\n",
    "    task = scan.split('_')[2].split('-')[1]\n",
    "    if subject not in nested_dict:\n",
    "        nested_dict[subject] = {}\n",
    "    if session not in nested_dict[subject]:\n",
    "        nested_dict[subject][session] = {}  \n",
    "    nested_dict[subject][session][task] = scan\n",
    "nested_dict['002']['1']['faces']\n",
    "\n",
    "# Print the full scan name for subject 2, ses 1 using your dictionary"
   ]
  },
  {
   "cell_type": "code",
   "execution_count": null,
   "id": "6699029a",
   "metadata": {},
   "outputs": [],
   "source": []
  }
 ],
 "metadata": {
  "colab": {
   "provenance": []
  },
  "kernelspec": {
   "display_name": "course-env",
   "language": "python",
   "name": "python3"
  },
  "language_info": {
   "codemirror_mode": {
    "name": "ipython",
    "version": 3
   },
   "file_extension": ".py",
   "mimetype": "text/x-python",
   "name": "python",
   "nbconvert_exporter": "python",
   "pygments_lexer": "ipython3",
   "version": "3.10.13"
  }
 },
 "nbformat": 4,
 "nbformat_minor": 5
}
