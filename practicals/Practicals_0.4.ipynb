{
 "cells": [
  {
   "cell_type": "markdown",
   "id": "622aecef",
   "metadata": {},
   "source": [
    "# Practicals for lecture 0.4\n",
    "\n",
    "[![Open In Colab](https://colab.research.google.com/assets/colab-badge.svg)](https://colab.research.google.com/github/vigji/python-cimec-2025/blob/main/practicals/Practicals_0.4.ipynb)"
   ]
  },
  {
   "cell_type": "markdown",
   "id": "90a1df71",
   "metadata": {},
   "source": [
    "### 0.4.0 Recap on functions"
   ]
  },
  {
   "cell_type": "code",
   "execution_count": 5,
   "id": "842ea842",
   "metadata": {},
   "outputs": [
    {
     "name": "stdout",
     "output_type": "stream",
     "text": [
      "[0.0, 0.2, 0.4, 0.6, 0.8, 1.0]\n"
     ]
    }
   ],
   "source": [
    "## Inplace operations\n",
    "\n",
    "# Write two different functions to normalize a dataset either inplace or by returning a new array.\n",
    "# The normalization should be done by ensuring that all values get mapped to the range [0, 1].\n",
    "\n",
    "\n",
    "# (Hint: this you can do by subtracting the minimum and dividing by the range (max - min).)\n",
    "\n",
    "\n",
    "# Code for inplace function:\n",
    "a_list = [1,2,3,4,5,6]\n",
    "\n",
    "def normalize_list_inplace(input_list):\n",
    "    list_max = max(input_list)\n",
    "    list_min = min(input_list)\n",
    "    list_range = list_max - list_min\n",
    "\n",
    "    for i, val in enumerate(input_list):\n",
    "        normalized_val = (val - list_min) / list_range\n",
    "        input_list[i] = normalized_val\n",
    "        \n",
    "    return\n",
    "    \n",
    "normalize_list_inplace(a_list)\n",
    "\n",
    "print(a_list)\n",
    "\n",
    "\n",
    "\n"
   ]
  },
  {
   "cell_type": "code",
   "execution_count": 8,
   "id": "b142054b",
   "metadata": {},
   "outputs": [
    {
     "name": "stdout",
     "output_type": "stream",
     "text": [
      "[1, 2, 3, 4, 5, 6]\n",
      "[0.0, 0.2, 0.4, 0.6, 0.8, 1.0]\n"
     ]
    }
   ],
   "source": [
    "# Code for function that returns a new array:\n",
    "a_list = [1,2,3,4,5,6]\n",
    "\n",
    "def normalize_list_inplace(input_list):\n",
    "\n",
    "    list_max = max(input_list)\n",
    "    list_min = min(input_list)\n",
    "    list_range = list_max - list_min\n",
    "    output_list = []\n",
    "    for i, val in enumerate(input_list):\n",
    "        normalized_val = (val - list_min) / list_range\n",
    "        output_list.append(normalized_val)\n",
    "        \n",
    "    return output_list\n",
    "    \n",
    "another_list = normalize_list_inplace(a_list)\n",
    "\n",
    "print(a_list)\n",
    "print(another_list)"
   ]
  },
  {
   "cell_type": "markdown",
   "id": "99d801e0",
   "metadata": {},
   "source": [
    "#### 0.4.1 Intro to objects"
   ]
  },
  {
   "cell_type": "code",
   "execution_count": 3,
   "id": "c750891d",
   "metadata": {},
   "outputs": [],
   "source": [
    "# Here is code implementing the definition of a Book class.\n",
    "# You do not have to look at this code for now (unless you want to read the docs).\n",
    "# Go to the exercises below!\n",
    "\n",
    "class Book:\n",
    "    \"\"\"Class representing a book.\n",
    "    \n",
    "    Arguments\n",
    "    =========\n",
    "    title : str\n",
    "       The title of the book\n",
    "    author : str\n",
    "       The author of the book\n",
    "    pages : int\n",
    "       The number of pages\n",
    "    \n",
    "    Methods\n",
    "    =======\n",
    "    \n",
    "    open_book: change the is_open status of the book to True\n",
    "    \n",
    "    close_book: change the is_open status of the book to False\n",
    "    \n",
    "    read_page: move current_page bookmark after having checked is_open status\n",
    "    \n",
    "    go_to_page: go to a given page of the book\n",
    "    \n",
    "    \"\"\"\n",
    "    def __init__(self, title, author, pages):\n",
    "        self.title = title\n",
    "        self.author = author\n",
    "        self.pages = pages\n",
    "        self.is_open = False\n",
    "        self.current_page = 1\n",
    "\n",
    "    def open_book(self):\n",
    "        \"\"\"Open the book by setting the is_open flag to true.\n",
    "        \"\"\"\n",
    "        self.is_open = True\n",
    "        print(f\"The book '{self.title}' is now open.\")\n",
    "\n",
    "    def close_book(self):\n",
    "        \"\"\"Close the book by setting the is_open flag to false.\n",
    "        \"\"\"\n",
    "        self.is_open = False\n",
    "        print(f\"The book '{self.title}' has been closed.\")\n",
    "\n",
    "    def read_page(self):\n",
    "        \"\"\"Read a page and advance by 1 in the page count.\n",
    "        \"\"\"\n",
    "        if not self.is_open:\n",
    "            print(f\"You need to open the book '{self.title}' first!\")\n",
    "            return\n",
    "\n",
    "        self.current_page += 1\n",
    "        if self.current_page > self.pages:\n",
    "            print(\"You have finished the book!\")\n",
    "            self.close_book()\n",
    "            \n",
    "    def go_to_page(self, new_current_page):\n",
    "        \"\"\"Go to new page\"\"\"\n",
    "        if not self.is_open:\n",
    "            print(f\"You need to open the book '{self.title}' first!\")\n",
    "            return\n",
    "        self.current_page = new_current_page"
   ]
  },
  {
   "cell_type": "code",
   "execution_count": 4,
   "id": "38581149",
   "metadata": {},
   "outputs": [
    {
     "data": {
      "text/plain": [
       "__main__.Book"
      ]
     },
     "execution_count": 4,
     "metadata": {},
     "output_type": "execute_result"
    }
   ],
   "source": [
    "# Instantiate an object from the book class! Let's say, lord_of_the_rings.\n",
    "# You can check out the docs with ?Book to know what you should be passing to it:\n",
    "lotr = Book(\"Lord of the Rings\", \"Tolkjen\", 1000)\n",
    "\n",
    "type(lotr)"
   ]
  },
  {
   "cell_type": "code",
   "execution_count": 18,
   "id": "a11ebb59",
   "metadata": {},
   "outputs": [
    {
     "data": {
      "text/plain": [
       "False"
      ]
     },
     "execution_count": 18,
     "metadata": {},
     "output_type": "execute_result"
    }
   ],
   "source": [
    "# Print out the value of the `is_open` attribute for the object:\n",
    "\n",
    "lotr.is_open"
   ]
  },
  {
   "cell_type": "code",
   "execution_count": 19,
   "id": "b7e1cdf6",
   "metadata": {},
   "outputs": [
    {
     "data": {
      "text/plain": [
       "{'title': 'Lord of the Rings',\n",
       " 'author': 'Tolkjen',\n",
       " 'pages': 1000,\n",
       " 'is_open': False,\n",
       " 'current_page': 1}"
      ]
     },
     "execution_count": 19,
     "metadata": {},
     "output_type": "execute_result"
    }
   ],
   "source": [
    "# Print out all attributes of the book object:\n",
    "vars(lotr)  # lotr.__dict__"
   ]
  },
  {
   "cell_type": "code",
   "execution_count": 20,
   "id": "c6c895ee",
   "metadata": {},
   "outputs": [],
   "source": [
    "# Create a second Book object of your choice with different arguments. \n",
    "# [Bonus]: This time, try to pass the arguments for the instantiation by keyword \n",
    "# Did this operation change the attributes of the first object you created above? \n",
    "\n",
    "hobbit = Book(\"The Hobbit\", \"Tolkjen\", 150)"
   ]
  },
  {
   "cell_type": "code",
   "execution_count": 21,
   "id": "5de41a79",
   "metadata": {},
   "outputs": [
    {
     "data": {
      "text/plain": [
       "{'title': 'Lord of the Rings',\n",
       " 'author': 'Tolkjen',\n",
       " 'pages': 1000,\n",
       " 'is_open': False,\n",
       " 'current_page': 1}"
      ]
     },
     "execution_count": 21,
     "metadata": {},
     "output_type": "execute_result"
    }
   ],
   "source": [
    "vars(lotr)"
   ]
  },
  {
   "cell_type": "code",
   "execution_count": 22,
   "id": "897fb8fd",
   "metadata": {},
   "outputs": [],
   "source": [
    "# Find in the documentation what are the methods that you can call from this object:\n",
    "?Book\n"
   ]
  },
  {
   "cell_type": "code",
   "execution_count": 26,
   "id": "6791b58c",
   "metadata": {},
   "outputs": [
    {
     "name": "stdout",
     "output_type": "stream",
     "text": [
      "False\n",
      "The book 'The Hobbit' is now open.\n",
      "True\n"
     ]
    }
   ],
   "source": [
    "# Call the open_book method from the lord_of_the_rings object:\n",
    "hobbit = Book(\"The Hobbit\", \"Tolkjen\", 150)\n",
    "print(hobbit.is_open)\n",
    "hobbit.open_book()\n",
    "print(hobbit.is_open)"
   ]
  },
  {
   "cell_type": "code",
   "execution_count": null,
   "id": "ce652205",
   "metadata": {},
   "outputs": [],
   "source": [
    "# Print out the value of the is_open attribute for the object now: has it changed?\n"
   ]
  },
  {
   "cell_type": "code",
   "execution_count": 11,
   "id": "32c86607",
   "metadata": {},
   "outputs": [],
   "source": [
    "# Note on step above: with objects, it is actually common to modify attributes inplace!"
   ]
  },
  {
   "cell_type": "code",
   "execution_count": 28,
   "id": "12a2de39",
   "metadata": {},
   "outputs": [
    {
     "name": "stdout",
     "output_type": "stream",
     "text": [
      "Current page:  0\n",
      "Current page:  100\n",
      "You have finished the book!\n",
      "The book 'The Hobbit' has been closed.\n",
      "151 False\n"
     ]
    }
   ],
   "source": [
    "# Write out a for loop that iterates for the number of pages that the book has \n",
    "# and at every loop entry calls the read_page method. \n",
    "\n",
    "# Every 100 pages you read, print out the current page number.\n",
    "\n",
    "for page_n in range(hobbit.pages):\n",
    "    hobbit.read_page()\n",
    "    if page_n % 100 == 0:\n",
    "        print(\"Current page: \", page_n)\n",
    "\n",
    "print(hobbit.current_page, hobbit.is_open)\n",
    "# At the end of the loop, print the value of the current_page and the is_open attributes\n",
    "\n",
    "# NOTE please note that after we run this cell once to run it another time we'd have to open the book again with the open_Book method!\n"
   ]
  },
  {
   "cell_type": "code",
   "execution_count": 9,
   "id": "da8ba2e0",
   "metadata": {},
   "outputs": [],
   "source": [
    "# [ADVANCED] try to follow up what is happening in the class definition! (We will dig\n",
    "# into class definition during the next part of the lecture)\n",
    "# Can you find the methods? Can you trace down what code is executed during the methods calls?\n",
    "# When is the code in __init__ executed?\n",
    "\n"
   ]
  },
  {
   "cell_type": "code",
   "execution_count": null,
   "id": "2766faa5",
   "metadata": {},
   "outputs": [],
   "source": [
    "# [ADVANCED] You can use the dir() functions to list all attributes and methods of an object.\n",
    "# 1) Try it to list all attributes and methods of lord_of_the_rings!\n",
    "\n",
    "dir(lord_of_the_rings)\n"
   ]
  },
  {
   "cell_type": "code",
   "execution_count": 21,
   "id": "a366a5a5",
   "metadata": {},
   "outputs": [
    {
     "name": "stdout",
     "output_type": "stream",
     "text": [
      "['__class__', '__delattr__', '__dict__', '__dir__', '__doc__', '__eq__', '__format__', '__ge__', '__getattribute__', '__gt__', '__hash__', '__init__', '__init_subclass__', '__le__', '__lt__', '__module__', '__ne__', '__new__', '__reduce__', '__reduce_ex__', '__repr__', '__setattr__', '__sizeof__', '__str__', '__subclasshook__', '__weakref__', 'author', 'close_book', 'current_page', 'go_to_page', 'is_open', 'open_book', 'pages', 'read_page', 'title']\n",
      "__class__: <class '__main__.Book'>\n",
      "__delattr__: <method-wrapper '__delattr__' of Book object at 0x105555ea0>\n",
      "__dict__: {'title': 'Lord of the Rings', 'author': 'Tolkjen', 'pages': 1000, 'is_open': False, 'current_page': 1}\n",
      "__dir__: <built-in method __dir__ of Book object at 0x105555ea0>\n",
      "__doc__: Class representing a book.\n",
      "    \n",
      "    Arguments\n",
      "    =========\n",
      "    title : str\n",
      "       The title of the book\n",
      "    author : str\n",
      "       The author of the book\n",
      "    pages : int\n",
      "       The number of pages\n",
      "    \n",
      "    Methods\n",
      "    =======\n",
      "    \n",
      "    open_book: change the is_open status of the book to True\n",
      "    \n",
      "    close_book: change the is_open status of the book to False\n",
      "    \n",
      "    read_page: move current_page bookmark after having checked is_open status\n",
      "    \n",
      "    go_to_page: go to a given page of the book\n",
      "    \n",
      "    \n",
      "__eq__: <method-wrapper '__eq__' of Book object at 0x105555ea0>\n",
      "__format__: <built-in method __format__ of Book object at 0x105555ea0>\n",
      "__ge__: <method-wrapper '__ge__' of Book object at 0x105555ea0>\n",
      "__getattribute__: <method-wrapper '__getattribute__' of Book object at 0x105555ea0>\n",
      "__gt__: <method-wrapper '__gt__' of Book object at 0x105555ea0>\n",
      "__hash__: <method-wrapper '__hash__' of Book object at 0x105555ea0>\n",
      "__init__: <bound method Book.__init__ of <__main__.Book object at 0x105555ea0>>\n",
      "__init_subclass__: <built-in method __init_subclass__ of type object at 0x159f5c2c0>\n",
      "__le__: <method-wrapper '__le__' of Book object at 0x105555ea0>\n",
      "__lt__: <method-wrapper '__lt__' of Book object at 0x105555ea0>\n",
      "__module__: __main__\n",
      "__ne__: <method-wrapper '__ne__' of Book object at 0x105555ea0>\n",
      "__new__: <built-in method __new__ of type object at 0x10232ebe8>\n",
      "__reduce__: <built-in method __reduce__ of Book object at 0x105555ea0>\n",
      "__reduce_ex__: <built-in method __reduce_ex__ of Book object at 0x105555ea0>\n",
      "__repr__: <method-wrapper '__repr__' of Book object at 0x105555ea0>\n",
      "__setattr__: <method-wrapper '__setattr__' of Book object at 0x105555ea0>\n",
      "__sizeof__: <built-in method __sizeof__ of Book object at 0x105555ea0>\n",
      "__str__: <method-wrapper '__str__' of Book object at 0x105555ea0>\n",
      "__subclasshook__: <built-in method __subclasshook__ of type object at 0x159f5c2c0>\n",
      "__weakref__: None\n",
      "author: Tolkjen\n",
      "close_book: <bound method Book.close_book of <__main__.Book object at 0x105555ea0>>\n",
      "current_page: 1\n",
      "go_to_page: <bound method Book.go_to_page of <__main__.Book object at 0x105555ea0>>\n",
      "is_open: False\n",
      "open_book: <bound method Book.open_book of <__main__.Book object at 0x105555ea0>>\n",
      "pages: 1000\n",
      "read_page: <bound method Book.read_page of <__main__.Book object at 0x105555ea0>>\n",
      "title: Lord of the Rings\n",
      "====================Internal attributes:====================\n",
      "author: Tolkjen\n",
      "close_book: <bound method Book.close_book of <__main__.Book object at 0x105555ea0>>\n",
      "current_page: 1\n",
      "go_to_page: <bound method Book.go_to_page of <__main__.Book object at 0x105555ea0>>\n",
      "is_open: False\n",
      "open_book: <bound method Book.open_book of <__main__.Book object at 0x105555ea0>>\n",
      "pages: 1000\n",
      "read_page: <bound method Book.read_page of <__main__.Book object at 0x105555ea0>>\n",
      "title: Lord of the Rings\n"
     ]
    }
   ],
   "source": [
    "# [ADVANCED] \n",
    "# 2) dir() returns a list of strings; each string is the name of a method or an attribute.\n",
    "#    you can use the getattr(object_name, attribute_name) function to retrieve the value of \n",
    "#    an attribute given its name. Try it out in a loop over the results of getattr!\n",
    "\n",
    "\n",
    "# List all attributes and methods\n",
    "print(dir(lotr))\n",
    "\n",
    "# Get attribute values using getattr\n",
    "for attr_name in dir(lotr):\n",
    "    attr_value = getattr(lotr, attr_name)\n",
    "    print(f\"{attr_name}: {attr_value}\")\n",
    "\n",
    "# We can skip the internal attributes by checking if the attribute name starts with an underscore\n",
    "print(\"====================Internal attributes:====================\")\n",
    "for attr_name in dir(lotr):\n",
    "    if not attr_name.startswith('_'):\n",
    "        attr_value = getattr(lotr, attr_name)\n",
    "        print(f\"{attr_name}: {attr_value}\")\n"
   ]
  },
  {
   "cell_type": "code",
   "execution_count": 19,
   "id": "7432a293",
   "metadata": {},
   "outputs": [
    {
     "name": "stdout",
     "output_type": "stream",
     "text": [
      "['__class__', '__delattr__', '__dict__', '__dir__', '__doc__', '__eq__', '__format__', '__ge__', '__getattribute__', '__gt__', '__hash__', '__init__', '__init_subclass__', '__le__', '__lt__', '__module__', '__ne__', '__new__', '__reduce__', '__reduce_ex__', '__repr__', '__setattr__', '__sizeof__', '__str__', '__subclasshook__', '__weakref__', 'author', 'close_book', 'current_page', 'go_to_page', 'is_open', 'open_book', 'pages', 'read_page', 'title']\n",
      "__class__: callable\n",
      "__delattr__: callable\n",
      "__dict__: attribute\n",
      "__dir__: callable\n",
      "__doc__: attribute\n",
      "__eq__: callable\n",
      "__format__: callable\n",
      "__ge__: callable\n",
      "__getattribute__: callable\n",
      "__gt__: callable\n",
      "__hash__: callable\n",
      "__init__: callable\n",
      "__init_subclass__: callable\n",
      "__le__: callable\n",
      "__lt__: callable\n",
      "__module__: attribute\n",
      "__ne__: callable\n",
      "__new__: callable\n",
      "__reduce__: callable\n",
      "__reduce_ex__: callable\n",
      "__repr__: callable\n",
      "__setattr__: callable\n",
      "__sizeof__: callable\n",
      "__str__: callable\n",
      "__subclasshook__: callable\n",
      "__weakref__: attribute\n",
      "author: attribute\n",
      "close_book: callable\n",
      "current_page: attribute\n",
      "go_to_page: callable\n",
      "is_open: attribute\n",
      "open_book: callable\n",
      "pages: attribute\n",
      "read_page: callable\n",
      "title: attribute\n"
     ]
    }
   ],
   "source": [
    "# [ADVANCED]\n",
    "# 3) In the loop above, you might have noticed that both attributes and methods can be retrieved.\n",
    "#    This is because methods are just special attributes that can be called with attributes!\n",
    "#    In the same way, functions are just special variables that can be called.\n",
    "#    You can check out what is callable and what is not with the callable() function.\n",
    "#    Try it out over all the results of getattr() in the previous loop!\n",
    "\n",
    "# List all attributes and methods\n",
    "print(dir(lotr))\n",
    "\n",
    "# Get attribute values using getattr\n",
    "for attr_name in dir(lotr):\n",
    "    # if not attr_name.startswith('_'):  # Skip internal attributes\n",
    "    attr_value = getattr(lotr, attr_name)\n",
    "    print(f\"{attr_name}: {'callable' if callable(attr_value) else 'attribute'}\")\n",
    "\n"
   ]
  },
  {
   "cell_type": "code",
   "execution_count": 18,
   "id": "a143602d",
   "metadata": {},
   "outputs": [
    {
     "name": "stdout",
     "output_type": "stream",
     "text": [
      "This is an example function\n"
     ]
    }
   ],
   "source": [
    "# [ADVANCED, philosophical]\n",
    "#    As all other variables, functions are objects as well! \n",
    "\n",
    "# Explore a function of your choice with the dir() function (yes, you can do this on the dir function itself!).\n",
    "# Can you create a variable function_documentation with the docstring for that function?\n",
    "\n",
    "# Function exploration\n",
    "def example_func():\n",
    "    \"\"\"This is an example function\"\"\"\n",
    "    pass\n",
    "\n",
    "function_documentation = example_func.__doc__\n",
    "print(function_documentation)\n"
   ]
  },
  {
   "cell_type": "code",
   "execution_count": 14,
   "id": "065e4bf8",
   "metadata": {},
   "outputs": [
    {
     "name": "stdout",
     "output_type": "stream",
     "text": [
      "['__call__', '__class__', '__delattr__', '__dir__', '__doc__', '__eq__', '__format__', '__ge__', '__getattribute__', '__gt__', '__hash__', '__init__', '__init_subclass__', '__le__', '__lt__', '__module__', '__name__', '__ne__', '__new__', '__qualname__', '__reduce__', '__reduce_ex__', '__repr__', '__self__', '__setattr__', '__sizeof__', '__str__', '__subclasshook__', '__text_signature__']\n",
      "dir([object]) -> list of strings\n",
      "\n",
      "If called without an argument, return the names in the current scope.\n",
      "Else, return an alphabetized list of names comprising (some of) the attributes\n",
      "of the given object, and of attributes reachable from it.\n",
      "If the object supplies a method named __dir__, it will be used; otherwise\n",
      "the default dir() logic is used and returns:\n",
      "  for a module object: the module's attributes.\n",
      "  for a class object:  its attributes, and recursively the attributes\n",
      "    of its bases.\n",
      "  for any other object: its attributes, its class's attributes, and\n",
      "    recursively the attributes of its class's base classes.\n"
     ]
    }
   ],
   "source": [
    "# Explore dir function itself\n",
    "print(dir(dir))\n",
    "\n",
    "dir_documentation = dir.__doc__\n",
    "print(dir_documentation)"
   ]
  },
  {
   "cell_type": "code",
   "execution_count": null,
   "id": "abf4c889",
   "metadata": {},
   "outputs": [],
   "source": []
  }
 ],
 "metadata": {
  "kernelspec": {
   "display_name": "course-env",
   "language": "python",
   "name": "python3"
  },
  "language_info": {
   "codemirror_mode": {
    "name": "ipython",
    "version": 3
   },
   "file_extension": ".py",
   "mimetype": "text/x-python",
   "name": "python",
   "nbconvert_exporter": "python",
   "pygments_lexer": "ipython3",
   "version": "3.10.13"
  }
 },
 "nbformat": 4,
 "nbformat_minor": 5
}
