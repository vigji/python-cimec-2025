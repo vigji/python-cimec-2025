{
 "cells": [
  {
   "cell_type": "markdown",
   "id": "03a44e75",
   "metadata": {},
   "source": [
    "# Practicals for lecture 1.0\n",
    "\n",
    "[![Open In Colab](https://colab.research.google.com/assets/colab-badge.svg)](https://colab.research.google.com/github/vigji/python-cimec-2025/blob/main/practicals/Practicals_1.0.ipynb)"
   ]
  },
  {
   "cell_type": "markdown",
   "id": "2d2a4f38",
   "metadata": {},
   "source": [
    "## Introduction to `numpy`"
   ]
  },
  {
   "cell_type": "markdown",
   "id": "99d801e0",
   "metadata": {},
   "source": [
    "#### 1.0.0 Creating numpy arrays"
   ]
  },
  {
   "cell_type": "code",
   "execution_count": 1,
   "id": "3be7ff9f",
   "metadata": {},
   "outputs": [],
   "source": [
    "import numpy as np\n",
    "import sys"
   ]
  },
  {
   "cell_type": "code",
   "execution_count": 2,
   "id": "7d604249",
   "metadata": {},
   "outputs": [
    {
     "data": {
      "text/plain": [
       "array([3, 2, 4, 5, 6, 1])"
      ]
     },
     "execution_count": 2,
     "metadata": {},
     "output_type": "execute_result"
    }
   ],
   "source": [
    "# Create a numpy array from this list:\n",
    "\n",
    "my_list = [3,2,4,5,6,1]\n",
    "\n",
    "np.array(my_list)\n"
   ]
  },
  {
   "cell_type": "code",
   "execution_count": 3,
   "id": "e6ff392e",
   "metadata": {},
   "outputs": [
    {
     "data": {
      "text/plain": [
       "(2, 3, 4)"
      ]
     },
     "execution_count": 3,
     "metadata": {},
     "output_type": "execute_result"
    }
   ],
   "source": [
    "# What shape do you expect to see in the array that come from converting\n",
    "# to numpy this list of lists of lists? Make your prediction, then convert list to array \n",
    "# and check the result!\n",
    "my_list_of_lists = [[[1, 2, 3, 4], [5,6,7,8], [9,10,11,12]], \n",
    "                    [[13,14,15,16], [17,18,19,20], [21,22,23,24]]]\n",
    "\n",
    "many_lists_arr = np.array(my_list_of_lists)\n",
    "many_lists_arr.shape"
   ]
  },
  {
   "cell_type": "code",
   "execution_count": 4,
   "id": "e2943acb",
   "metadata": {},
   "outputs": [
    {
     "name": "stdout",
     "output_type": "stream",
     "text": [
      "3\n",
      "(3, 2, 10)\n"
     ]
    }
   ],
   "source": [
    "# Initialize a 3D numpy array full of zeros of shape (3, 2, 10). \n",
    "# Check its  `ndim` and `shape` attributes to make sure it is correct!\n",
    "\n",
    "my_array = np.zeros((3, 2, 10))\n",
    "print(my_array.ndim)\n",
    "print(my_array.shape)"
   ]
  },
  {
   "cell_type": "code",
   "execution_count": 5,
   "id": "0e68980b",
   "metadata": {},
   "outputs": [
    {
     "data": {
      "text/plain": [
       "(624, 204)"
      ]
     },
     "execution_count": 5,
     "metadata": {},
     "output_type": "execute_result"
    }
   ],
   "source": [
    "# Initialize a numpy array full of ones of shape (3, 2, 10). Make it of data type np.uint16!\n",
    "# Bonus: check its size in memory and compare it with the size of the zeros array we defined above!\n",
    "# You can use the sys.getsizeof() function to check the size in memory of the array.\n",
    "\n",
    "my_array_uint16 = np.zeros((3, 2, 10), dtype=np.uint8)\n",
    "my_array_uint16.dtype\n",
    "\n",
    "sys.getsizeof(my_array), sys.getsizeof(my_array_uint16)"
   ]
  },
  {
   "cell_type": "code",
   "execution_count": 6,
   "id": "097ed893",
   "metadata": {},
   "outputs": [
    {
     "data": {
      "text/plain": [
       "array([[[nan, nan, nan, nan, nan, nan, nan, nan, nan, nan],\n",
       "        [nan, nan, nan, nan, nan, nan, nan, nan, nan, nan]],\n",
       "\n",
       "       [[nan, nan, nan, nan, nan, nan, nan, nan, nan, nan],\n",
       "        [nan, nan, nan, nan, nan, nan, nan, nan, nan, nan]],\n",
       "\n",
       "       [[nan, nan, nan, nan, nan, nan, nan, nan, nan, nan],\n",
       "        [nan, nan, nan, nan, nan, nan, nan, nan, nan, nan]]])"
      ]
     },
     "execution_count": 6,
     "metadata": {},
     "output_type": "execute_result"
    }
   ],
   "source": [
    "# Initialize an array of shape (3, 2, 10) full of nans:\n",
    "\n",
    "my_array = np.full( (3, 2, 10), np.nan)\n",
    "my_array"
   ]
  },
  {
   "cell_type": "code",
   "execution_count": 7,
   "id": "261247fb",
   "metadata": {},
   "outputs": [
    {
     "data": {
      "text/plain": [
       "array([ 0,  2,  4,  6,  8, 10, 12, 14, 16, 18, 20, 22, 24, 26, 28, 30, 32,\n",
       "       34, 36, 38, 40, 42, 44, 46, 48, 50, 52, 54, 56, 58, 60, 62, 64, 66,\n",
       "       68, 70, 72, 74, 76, 78, 80, 82, 84, 86, 88, 90, 92, 94, 96, 98])"
      ]
     },
     "execution_count": 7,
     "metadata": {},
     "output_type": "execute_result"
    }
   ],
   "source": [
    "# Initialize a 1D array containing all even numbers from 0 to 100:\n",
    "my_array = np.arange(0, 100, 2)\n",
    "my_array"
   ]
  },
  {
   "cell_type": "code",
   "execution_count": 8,
   "id": "a6737560",
   "metadata": {},
   "outputs": [
    {
     "data": {
      "text/plain": [
       "(4, 5, 2)"
      ]
     },
     "execution_count": 8,
     "metadata": {},
     "output_type": "execute_result"
    }
   ],
   "source": [
    "# Google (or ask chatGPT) how to use np.random to generate normally distributed values. \n",
    "# Then, create an array of normally distributed values and shape (4,5,2) called random_matrix.\n",
    "\n",
    "random_array = np.random.normal(0, 1, (4,5,2))\n",
    "random_array.shape\n"
   ]
  },
  {
   "cell_type": "code",
   "execution_count": 9,
   "id": "d9a08933",
   "metadata": {},
   "outputs": [
    {
     "data": {
      "text/plain": [
       "array([4, 3, 2, 0, 1])"
      ]
     },
     "execution_count": 9,
     "metadata": {},
     "output_type": "execute_result"
    }
   ],
   "source": [
    "# [Advanced]: \n",
    "# 1) Another useful np.random function is shuffle, to change the order of elements in a list/array. \n",
    "# try it out! Does it return a new array or does it work inplace?\n",
    "arr_to_shuffle = np.arange(5)\n",
    "np.random.shuffle(arr_to_shuffle)\n",
    "\n",
    "arr_to_shuffle  # this works inplace!"
   ]
  },
  {
   "cell_type": "code",
   "execution_count": 12,
   "id": "fd41a8ab",
   "metadata": {},
   "outputs": [
    {
     "name": "stdout",
     "output_type": "stream",
     "text": [
      "Array of type <class 'bool'> uses 976.69 KB\n",
      "Array of type <class 'numpy.uint8'> uses 976.69 KB\n",
      "Array of type <class 'numpy.uint16'> uses 1953.25 KB\n",
      "Array of type <class 'numpy.float32'> uses 3906.38 KB\n",
      "Array of type <class 'float'> uses 7812.62 KB\n",
      "Array of type <class 'int'> uses 7812.62 KB\n",
      "Array of type <class 'str'> uses 125000.12 KB\n"
     ]
    }
   ],
   "source": [
    "# 2) try initializing random arrays of different dtypes and look at their size in memory.\n",
    "dtypes = [bool, np.uint8, np.uint16, np.float32, float, int, str]\n",
    "array_size = (1000, 1000)\n",
    "\n",
    "for dtype in dtypes:\n",
    "    arr = np.random.random(array_size).astype(dtype)\n",
    "    print(f\"Array of type {dtype} uses {sys.getsizeof(arr) / 1024:.2f} KB\")"
   ]
  },
  {
   "cell_type": "code",
   "execution_count": null,
   "id": "9fc43a81",
   "metadata": {},
   "outputs": [
    {
     "name": "stdout",
     "output_type": "stream",
     "text": [
      "Original array uses 7812.50 KB\n",
      "Compressed array uses 1953.12 KB\n",
      "Max absolute error: 0.00001526\n",
      "Resolution limit of uint16: 0.00001526\n"
     ]
    }
   ],
   "source": [
    "# 3) From the exercise above, you can imagine that sometimes using u/int8 or u/int16 can spare a lot of space\n",
    "# when working with arrays. However, those types can only store integers. \n",
    "# Can you imagine what you could do to convert float values in the range 0-1 to integers that you can store\n",
    "# using uint8 or uint16? \n",
    "# write a function that takes as input an array of floats between 0 and 1 and convert it in uint16 format \n",
    "# maintaning as much information as possible. Write also a function to transform the array back to the original float form.\n",
    "to_be_compressed = np.random.rand(1000, 1000)\n",
    "\n",
    "def compress_to_uint16(float_array):\n",
    "    # Scale floats 0-1 to integers 0-65535 (max uint16)\n",
    "    return (float_array * 65535).astype(np.uint16)\n",
    "\n",
    "def decompress_from_uint16(uint16_array):\n",
    "    # Scale integers 0-65535 back to floats 0-1\n",
    "    return uint16_array.astype(float) / 65535\n",
    "\n",
    "# Test compression and decompression\n",
    "compressed = compress_to_uint16(to_be_compressed)\n",
    "decompressed = decompress_from_uint16(compressed)\n",
    "\n",
    "# Print memory usage comparison\n",
    "print(f\"Original array uses {to_be_compressed.nbytes / 1024:.2f} KB\")\n",
    "print(f\"Compressed array uses {compressed.nbytes / 1024:.2f} KB\")\n",
    "\n",
    "\n"
   ]
  },
  {
   "cell_type": "code",
   "execution_count": 16,
   "id": "366e16ce",
   "metadata": {},
   "outputs": [
    {
     "name": "stdout",
     "output_type": "stream",
     "text": [
      "Resolution limit of uint8: 0.00392157\n",
      "Resolution limit of uint16: 0.00001526\n",
      "Max absolute error: 0.00001526\n"
     ]
    }
   ],
   "source": [
    "# 4) Can you estimate what is the resolution limit of the uint8 and uint16 encoded arrays? Resolution \n",
    "# could be defined as the minimum difference between two numbers that will make them mapped as different values\n",
    "# in the uint8 or uint16 encoded arrays.\n",
    "\n",
    "# The teoretical resolution limit of uint8 is 1/255, of uint16 is 1/65535:\n",
    "\n",
    "resolution_limit_uint8 = 1 / 255\n",
    "resolution_limit_uint16 = 1 / 65535\n",
    "\n",
    "print(f\"Resolution limit of uint8: {resolution_limit_uint8:.8f}\")\n",
    "print(f\"Resolution limit of uint16: {resolution_limit_uint16:.8f}\")\n",
    "\n",
    "# Let's check the max error we got in our compression/decompression:\n",
    "print(f\"Max absolute error: {np.max(np.abs(to_be_compressed - decompressed)):.8f}\")\n"
   ]
  },
  {
   "cell_type": "code",
   "execution_count": 22,
   "id": "77402a0a",
   "metadata": {},
   "outputs": [
    {
     "data": {
      "image/png": "[encoded data removed]",
      "text/plain": [
       "<Figure size 1000x600 with 1 Axes>"
      ]
     },
     "metadata": {},
     "output_type": "display_data"
    },
    {
     "name": "stdout",
     "output_type": "stream",
     "text": [
      "Estimated overhead: 112.00 bytes\n",
      "Estimated bytes per element: 8.00\n"
     ]
    }
   ],
   "source": [
    "# 5) Given a dtype - let's say float - try to figure out how much memory is required to store each number of the array, \n",
    "# and how much memory is allocated as an overhead just to initialize the array.\n",
    "\n",
    "# Create arrays of increasing size and measure memory\n",
    "sizes = np.arange(0, 200, 20)\n",
    "memory_usage = []\n",
    "\n",
    "for size in sizes:\n",
    "    arr = np.zeros(size, dtype=float)\n",
    "    memory_usage.append(sys.getsizeof(arr))\n",
    "\n",
    "memory_usage = np.array(memory_usage)\n",
    "\n",
    "# Plot memory usage vs array size\n",
    "f, ax = plt.subplots(figsize=(10, 6))\n",
    "ax.plot(sizes, memory_usage, 'b-', label='Total memory')\n",
    "\n",
    "# Fit a line to estimate overhead\n",
    "coeffs = np.polyfit(sizes, memory_usage, 1)\n",
    "fitted_line = coeffs[0] * sizes + coeffs[1]\n",
    "plt.plot(sizes, fitted_line, 'r--', label=f'Fitted line\\nSlope={coeffs[0]:.2f} bytes/element\\nOverhead={coeffs[1]:.2f} bytes')\n",
    "\n",
    "ax.set(xlabel='Number of elements', ylabel='Memory usage (bytes)')\n",
    "ax.grid(True)\n",
    "ax.legend()\n",
    "plt.show()\n",
    "\n",
    "print(f\"Estimated overhead: {coeffs[1]:.2f} bytes\")\n",
    "print(f\"Estimated bytes per element: {coeffs[0]:.2f}\")\n"
   ]
  },
  {
   "cell_type": "markdown",
   "id": "4c7a5116",
   "metadata": {},
   "source": [
    "#### 1.0.1 Indexing and plotting"
   ]
  },
  {
   "cell_type": "code",
   "execution_count": 23,
   "id": "57b9def5",
   "metadata": {},
   "outputs": [
    {
     "name": "stdout",
     "output_type": "stream",
     "text": [
      "[[ 0.49671415 -0.1382643   0.64768854  1.52302986 -0.23415337]\n",
      " [-0.23413696  1.57921282  0.76743473 -0.46947439  0.54256004]\n",
      " [-0.46341769 -0.46572975  0.24196227 -1.91328024 -1.72491783]\n",
      " [-0.56228753 -1.01283112  0.31424733 -0.90802408 -1.4123037 ]]\n"
     ]
    },
    {
     "data": {
      "text/plain": [
       "-0.13826430117118466"
      ]
     },
     "execution_count": 23,
     "metadata": {},
     "output_type": "execute_result"
    }
   ],
   "source": [
    "# You are given this 2D array:\n",
    "np.random.seed(42)\n",
    "random_array = np.random.normal(0, 1, (4, 5))\n",
    "\n",
    "# use numpy indexing to address the element (0, 1) (first row, second column) from random_array:\n",
    "print(random_array)\n",
    "\n",
    "random_array[0, 1]"
   ]
  },
  {
   "cell_type": "code",
   "execution_count": 24,
   "id": "63bb4bab",
   "metadata": {},
   "outputs": [
    {
     "data": {
      "text/plain": [
       "array([-0.23413696,  1.57921282,  0.76743473, -0.46947439,  0.54256004])"
      ]
     },
     "execution_count": 24,
     "metadata": {},
     "output_type": "execute_result"
    }
   ],
   "source": [
    "# use numpy indexing to select all values in the second row from random_matrix above:\n",
    "\n",
    "random_array[1, :]"
   ]
  },
  {
   "cell_type": "code",
   "execution_count": 25,
   "id": "9da177f7",
   "metadata": {},
   "outputs": [
    {
     "name": "stdout",
     "output_type": "stream",
     "text": [
      "[[ 0.49671415 -0.1382643 ]\n",
      " [ 0.64768854  1.52302986]\n",
      " [-0.23415337 -0.23413696]]\n",
      "[[False  True]\n",
      " [False False]\n",
      " [ True  True]]\n"
     ]
    },
    {
     "data": {
      "text/plain": [
       "array([[0.49671415,        nan],\n",
       "       [0.64768854, 1.52302986],\n",
       "       [       nan,        nan]])"
      ]
     },
     "execution_count": 25,
     "metadata": {},
     "output_type": "execute_result"
    }
   ],
   "source": [
    "# Set to replace with np.nan all the negative values in the matrix below:\n",
    "np.random.seed(42)\n",
    "random_matrix = np.random.normal(0, 1, (3,2))\n",
    "print(random_matrix)\n",
    "\n",
    "selector = random_matrix < 0\n",
    "print(selector)\n",
    "\n",
    "random_matrix[selector] = np.nan\n",
    "\n",
    "random_matrix"
   ]
  },
  {
   "cell_type": "code",
   "execution_count": 26,
   "id": "7d7787f4",
   "metadata": {},
   "outputs": [],
   "source": [
    "# fMRI data\n",
    "\n",
    "# The code snippet below loads a single fmri scan into an array (fmri_array).\n",
    "# This scan consists of 50x59 voxels in each slice, 50 axial slices, 168 timepoints.\n",
    "\n",
    "# First, run this cell to load the data:\n",
    "# !pip install nilearn\n",
    "from nilearn import datasets, image, plotting\n",
    "data = datasets.fetch_development_fmri(n_subjects=1)\n",
    "fmri_img = image.load_img(data.func[0])\n",
    "fmri_array = image.get_data(fmri_img)"
   ]
  },
  {
   "cell_type": "code",
   "execution_count": 27,
   "id": "f529f955",
   "metadata": {},
   "outputs": [
    {
     "name": "stdout",
     "output_type": "stream",
     "text": [
      "(50, 59, 50, 168)\n"
     ]
    }
   ],
   "source": [
    "# Print out the shape of the array to check the dimensions, and find the time axis (remember, we have 168 timepoints).\n",
    "print(fmri_array.shape)\n",
    "\n",
    "# Select the volume correponding to the 100th timepoint, then print the shape of the volume to check the dimensions\n",
    "# and if they make sense to you given the specs of the scan given above:\n",
    "volume = fmri_array[:, :, :, 100]"
   ]
  },
  {
   "cell_type": "code",
   "execution_count": 29,
   "id": "af0ed148",
   "metadata": {},
   "outputs": [
    {
     "data": {
      "image/png": "[encoded data removed]",
      "text/plain": [
       "<Figure size 640x480 with 2 Axes>"
      ]
     },
     "metadata": {},
     "output_type": "display_data"
    }
   ],
   "source": [
    "# Now slice the volume on the 3rd axis to get the 20th slice, and plot it using plt.imshow:\n",
    "# Bonus: check the documentation of plt.imshow and play with the vmin and vmax arguments to control the contrast range:\n",
    "\n",
    "plt.imshow(volume[:, :, 20], vmin=-100, vmax=1000)\n",
    "plt.colorbar()\n",
    "plt.show()"
   ]
  },
  {
   "cell_type": "code",
   "execution_count": 42,
   "id": "73b7b5c4",
   "metadata": {},
   "outputs": [
    {
     "name": "stdout",
     "output_type": "stream",
     "text": [
      "143 143\n"
     ]
    }
   ],
   "source": [
    "# Lets say that you know that timepoints 30-40 and 99-114 are corrupted by high levels of motion, \n",
    "# so you want to remove them (an approach known as motion censoring).\n",
    "# Create a boolean array that indicates which timepoints need to be censored - a censoring timeseries essentially. \n",
    "# (Hint: you can do this by creating a boolean array of zeros and use slicing to set the correct values to 1)\n",
    "# \n",
    "# The number of timepoints in your array should be match the number of timepoints in your scan.\n",
    "\n",
    "censored_timeseries = np.ones(fmri_array.shape[3], dtype=bool)\n",
    "censored_timeseries[30:40] = False\n",
    "censored_timeseries[99:114] = False\n",
    "\n",
    "fmri_array_filteres = fmri_array[:, :, :, censored_timeseries]\n",
    "\n",
    "\n",
    "# Now apply the censoring timeseries to your scan to remove the corrupted timepoints. \n",
    "# Check that the number of remaining timepoints is as you expect.\n",
    " \n",
    "# We have as many timepoints as true values in censored_timeseries:\n",
    "print(fmri_array_filteres.shape[3], sum(censored_timeseries))"
   ]
  }
 ],
 "metadata": {
  "kernelspec": {
   "display_name": "course-env",
   "language": "python",
   "name": "python3"
  },
  "language_info": {
   "codemirror_mode": {
    "name": "ipython",
    "version": 3
   },
   "file_extension": ".py",
   "mimetype": "text/x-python",
   "name": "python",
   "nbconvert_exporter": "python",
   "pygments_lexer": "ipython3",
   "version": "3.10.13"
  }
 },
 "nbformat": 4,
 "nbformat_minor": 5
}
