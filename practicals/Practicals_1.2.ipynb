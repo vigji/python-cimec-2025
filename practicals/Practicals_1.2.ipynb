{
 "cells": [
  {
   "cell_type": "markdown",
   "id": "c6cb4678",
   "metadata": {},
   "source": [
    "# Practicals for lecture 1.2\n",
    "\n",
    "[![Open In Colab](https://colab.research.google.com/assets/colab-badge.svg)](https://colab.research.google.com/github/vigji/python-cimec-2025/blob/main/practicals/Practicals_1.2.ipynb)"
   ]
  },
  {
   "cell_type": "markdown",
   "id": "65a0bb4d",
   "metadata": {},
   "source": [
    "#### 1.2.0 "
   ]
  },
  {
   "cell_type": "code",
   "execution_count": 2,
   "id": "f572e5f3",
   "metadata": {},
   "outputs": [],
   "source": [
    "import numpy as np\n",
    "import pandas as pd\n",
    "from matplotlib import pyplot as plt"
   ]
  },
  {
   "cell_type": "code",
   "execution_count": 7,
   "id": "46dbd51b",
   "metadata": {},
   "outputs": [
    {
     "name": "stdout",
     "output_type": "stream",
     "text": [
      "(array([  0,   0,   0, ..., 199, 199, 199]), array([  0,   1,   2, ..., 979, 981, 984]))\n"
     ]
    },
    {
     "data": {
      "text/plain": [
       "0.5374604871607751"
      ]
     },
     "execution_count": 7,
     "metadata": {},
     "output_type": "execute_result"
    }
   ],
   "source": [
    "def generate_RT_data(n_subjects=200, n_samples_per_subject=1000):\n",
    "    \"\"\"Generates Reaction Time data for a given number of subjects\"\"\"\n",
    "    np.random.seed(0)  # For reproducibility\n",
    "    shift = 0.500  # Shift of the distribution\n",
    "    # Initialize an empty array to store the RT times for all subjects\n",
    "    RT_data = np.empty((n_subjects, n_samples_per_subject))\n",
    "    \n",
    "    for i in range(n_subjects):\n",
    "        # Assuming mu ranges from 90 to 110 and sigma from 10 to 20 for the subjects\n",
    "        mu = np.random.uniform(0.090, 0.110)\n",
    "        sigma = np.random.uniform(0.10, 0.20)\n",
    "        RT_data[i] = np.random.normal(mu, sigma, n_samples_per_subject) + shift\n",
    "    \n",
    "    return RT_data\n",
    "\n",
    "# This is our data matrix (200 subjects, 1000 RTs each)\n",
    "rt_data = generate_RT_data()\n",
    "\n",
    "# Assume that w consider outliers the RTs longer than 0.7 seconds. \n",
    "# Compute again the mean RTs after having excluded such outliers (make sure you use only vector operations)\n",
    "\n",
    "# (Hint: an easy way to exclude outliers without using loops is by setting nans in the matrix)\n",
    "outliers_indexes_tuple = np.nonzero(rt_data > 0.7)\n",
    "print(outliers_indexes_tuple)\n",
    "rt_data[outliers_indexes_tuple] = np.nan\n",
    "mean_no_outliers = np.nanmean(rt_data)\n",
    "mean_no_outliers\n"
   ]
  },
  {
   "cell_type": "code",
   "execution_count": 11,
   "id": "75f181c7",
   "metadata": {},
   "outputs": [
    {
     "data": {
      "text/plain": [
       "array([[ 28, 610]])"
      ]
     },
     "execution_count": 11,
     "metadata": {},
     "output_type": "execute_result"
    }
   ],
   "source": [
    "# Find the shortest RT of the whole dataset; then, find its index to know the subject and the trial number:\n",
    "min_val = np.nanmin(rt_data)\n",
    "np.argwhere(rt_data == min_val)\n"
   ]
  },
  {
   "cell_type": "code",
   "execution_count": 13,
   "id": "f4a6ec02",
   "metadata": {},
   "outputs": [
    {
     "data": {
      "text/plain": [
       "(28, 610)"
      ]
     },
     "execution_count": 13,
     "metadata": {},
     "output_type": "execute_result"
    }
   ],
   "source": [
    "min_idx = np.nanargmin(rt_data)\n",
    "np.unravel_index(min_idx, rt_data.shape)"
   ]
  },
  {
   "cell_type": "code",
   "execution_count": 16,
   "id": "ba8f66c1",
   "metadata": {},
   "outputs": [
    {
     "data": {
      "text/plain": [
       "'2022-07-22T13:00'"
      ]
     },
     "execution_count": 16,
     "metadata": {},
     "output_type": "execute_result"
    }
   ],
   "source": [
    "def download_meteo_data(start_date=\"2022-01-01\", end_date=\"2022-12-31\",\n",
    "                        latitude=\"45.88204\", longitude=\"11.03647\",\n",
    "                        data=\"temperature_2m\"):\n",
    "    \"\"\"Download meteo historical data from open-meteo.com.\"\"\"\n",
    "\n",
    "    import requests\n",
    "    import json\n",
    "\n",
    "    BASE_URL = \"https://archive-api.open-meteo.com/v1/\"\n",
    "    query = f\"archive?latitude={latitude}&longitude={longitude}&start_date={start_date}&end_date={end_date}&hourly={data}\"\n",
    "\n",
    "    r = requests.get(BASE_URL + query)\n",
    "    json_dict = json.loads(r.text)\n",
    "    \n",
    "    if \"hourly\" not in json_dict.keys():\n",
    "        print(json_dict)\n",
    "        return None, None\n",
    "    else:\n",
    "        return np.array(json_dict[\"hourly\"][\"time\"]).reshape(-1, 24), np.array(json_dict[\"hourly\"][data]).reshape(-1, 24)\n",
    "\n",
    "# Find the index for the highest temperature in the temperature_array.\n",
    "# Then, apply the index you have found over timestamps_array to read out the corresponding timestamp(s).\n",
    "\n",
    "# (Hint:\n",
    "# Remember, you have to either: \n",
    "#  - use np.argmax, and to work with the flattened() arrays when using the index you found;\n",
    "#  - find maximum value using np.max, and then use np.nonzero to get the indexes of values \n",
    "#    equal to the max over both dimensions of the array)\n",
    "\n",
    "timestamps_array, temperatures_array = download_meteo_data()\n",
    "\n",
    "max_t_idx = np.argmax(temperatures_array)\n",
    "timestamps_array.flatten()[max_t_idx]"
   ]
  },
  {
   "cell_type": "code",
   "execution_count": 23,
   "id": "7cabb529",
   "metadata": {},
   "outputs": [],
   "source": [
    "# The following code gives you a matrix of zeros and ones:\n",
    "import numpy as np\n",
    "np.random.seed(42)\n",
    "data = np.random.randint(0, 2, size=(5, 6))\n",
    "\n",
    "# Find the rows and columns of all the ones in the matrix:\n",
    "ones_idxs = np.nonzero(data)"
   ]
  },
  {
   "cell_type": "code",
   "execution_count": 27,
   "id": "3270e47c",
   "metadata": {},
   "outputs": [
    {
     "data": {
      "text/plain": [
       "array([[ 0., nan,  0.,  0.,  0., nan],\n",
       "       [ 0.,  0.,  0., nan,  0.,  0.],\n",
       "       [ 0.,  0., nan,  0., nan, nan],\n",
       "       [nan,  0., nan,  0., nan, nan],\n",
       "       [nan, nan, nan, nan, nan, nan]])"
      ]
     },
     "execution_count": 27,
     "metadata": {},
     "output_type": "execute_result"
    }
   ],
   "source": [
    "# Then, replace them with nans using the indexes you found; \n",
    "# can you do it without changing the dtype of the array?\n",
    "\n",
    "data_float = data.astype(float)\n",
    "data_float[ones_idxs] = np.nan\n",
    "data_float"
   ]
  },
  {
   "cell_type": "code",
   "execution_count": 7,
   "id": "d1f2d9a1",
   "metadata": {},
   "outputs": [
    {
     "name": "stdout",
     "output_type": "stream",
     "text": [
      "Peak indices: [2 5]\n",
      "Peak values: [7 6]\n"
     ]
    }
   ],
   "source": [
    "# This array represents a stupid example signal with some noise.\n",
    "# Without using loops, find the indexes of the peaks in the signal.\n",
    "# Peaks are defined as consecutive numbers in the array that are larger than the numbers immediately before and after them.\n",
    "\n",
    "signal = np.array([1, 3, 7, 1, 2, 6, 0, 1])\n",
    "\n",
    "# Create shifted versions of the array for comparison\n",
    "left = signal[:-2]  # all elements except last two\n",
    "middle = signal[1:-1]  # all elements except first and last\n",
    "right = signal[2:]  # all elements except first two\n",
    "\n",
    "# Find where middle is greater than both neighbors\n",
    "peak_indices = np.argwhere((middle > left) & (middle > right))[:, 0] + 1\n",
    "\n",
    "print(\"Peak indices:\", peak_indices)\n",
    "print(\"Peak values:\", signal[peak_indices])"
   ]
  },
  {
   "cell_type": "markdown",
   "id": "7e16a0ce",
   "metadata": {},
   "source": [
    "#### Practicals 1.2.1"
   ]
  },
  {
   "cell_type": "code",
   "execution_count": 35,
   "id": "cfdcefb1",
   "metadata": {},
   "outputs": [],
   "source": [
    "# Now compute the 1D array of average temperatures per day.\n",
    "# Build a boolean selector to filter all mean temperatures above 10 and below 25 degrees:\n",
    "daily_means = np.mean(temperatures_array, axis=1)\n",
    "vals = daily_means[(daily_means > 10) & (daily_means < 25)]\n",
    "idxs = np.argwhere((daily_means > 10) & (daily_means < 25))\n"
   ]
  },
  {
   "cell_type": "code",
   "execution_count": 38,
   "id": "bc7a812e",
   "metadata": {},
   "outputs": [
    {
     "data": {
      "text/plain": [
       "array([6, 7, 6, 6, 7, 7, 7, 7, 0, 0, 6, 6, 6, 6, 7, 0, 7, 7, 6, 7, 7, 0,\n",
       "       6, 7, 0, 7, 7, 0, 7, 0, 6, 6, 7])"
      ]
     },
     "execution_count": 38,
     "metadata": {},
     "output_type": "execute_result"
    }
   ],
   "source": [
    "# For the array of integer numbers below, use array boolean operations to filter out the numbers that \n",
    "# are greater than 5 AND less than 8, OR that are multiple of 7.\n",
    "# USe the selector to create a new array with the included numbers.\n",
    "np.random.seed(42)\n",
    "an_array = np.random.randint(0, 10, 100)\n",
    "\n",
    "selector = ((an_array > 5) & (an_array < 8)) | ((an_array % 7) == 0)\n",
    "\n",
    "an_array[selector]\n"
   ]
  },
  {
   "cell_type": "code",
   "execution_count": 52,
   "id": "653fc7b8",
   "metadata": {},
   "outputs": [
    {
     "data": {
      "text/plain": [
       "array(['2022-07-22T13:00', '2022-07-22T12:00', '2022-07-26T12:00',\n",
       "       '2022-07-25T13:00', '2022-07-22T11:00'], dtype='<U16')"
      ]
     },
     "execution_count": 52,
     "metadata": {},
     "output_type": "execute_result"
    }
   ],
   "source": [
    "# We can use the np.argsort() function to produce the indexes array required to\n",
    "# order an array in ascending or descending values.\n",
    "\n",
    "# For example:\n",
    "random_arr = np.array([0.1, 5, 3.4, 2.3])\n",
    "ordering_idxs = np.argsort(random_arr)\n",
    "random_arr[ordering_idxs]  # with this index, this is now ordered!\n",
    "\n",
    "# Let's make a ranking of the 5 warmest hours of the dataset!\n",
    "# Sort the (flattened) temperature array using the indexes produced by np.argsort.\n",
    "# so that the first elements are the highest temperatures.\n",
    "# Then sort the timestamps array with the same indexes, and take the first 5.\n",
    "descending_ordered_idxs = np.argsort(-temperatures_array.flatten())\n",
    "# Double check you match the result that you have got in the exercises above!\n",
    "\n",
    "timestamps_array.flatten()[descending_ordered_idxs][:5]"
   ]
  },
  {
   "cell_type": "markdown",
   "id": "472faa0d",
   "metadata": {},
   "source": [
    "#### 1.2.2 Introduction to `pandas` DataFrames"
   ]
  },
  {
   "cell_type": "code",
   "execution_count": 45,
   "id": "9be7cc7a",
   "metadata": {},
   "outputs": [],
   "source": [
    "import pandas as pd"
   ]
  },
  {
   "cell_type": "code",
   "execution_count": 9,
   "id": "9dfb088f",
   "metadata": {},
   "outputs": [
    {
     "data": {
      "text/html": [
       "<div>\n",
       "<style scoped>\n",
       "    .dataframe tbody tr th:only-of-type {\n",
       "        vertical-align: middle;\n",
       "    }\n",
       "\n",
       "    .dataframe tbody tr th {\n",
       "        vertical-align: top;\n",
       "    }\n",
       "\n",
       "    .dataframe thead th {\n",
       "        text-align: right;\n",
       "    }\n",
       "</style>\n",
       "<table border=\"1\" class=\"dataframe\">\n",
       "  <thead>\n",
       "    <tr style=\"text-align: right;\">\n",
       "      <th></th>\n",
       "      <th>age</th>\n",
       "      <th>weight</th>\n",
       "      <th>height</th>\n",
       "      <th>sex</th>\n",
       "      <th>handedness</th>\n",
       "      <th>group</th>\n",
       "    </tr>\n",
       "  </thead>\n",
       "  <tbody>\n",
       "    <tr>\n",
       "      <th>0</th>\n",
       "      <td>26</td>\n",
       "      <td>84</td>\n",
       "      <td>175</td>\n",
       "      <td>M</td>\n",
       "      <td>L</td>\n",
       "      <td>patient</td>\n",
       "    </tr>\n",
       "    <tr>\n",
       "      <th>1</th>\n",
       "      <td>39</td>\n",
       "      <td>93</td>\n",
       "      <td>181</td>\n",
       "      <td>M</td>\n",
       "      <td>R</td>\n",
       "      <td>patient</td>\n",
       "    </tr>\n",
       "    <tr>\n",
       "      <th>2</th>\n",
       "      <td>34</td>\n",
       "      <td>89</td>\n",
       "      <td>155</td>\n",
       "      <td>F</td>\n",
       "      <td>L</td>\n",
       "      <td>patient</td>\n",
       "    </tr>\n",
       "    <tr>\n",
       "      <th>3</th>\n",
       "      <td>30</td>\n",
       "      <td>71</td>\n",
       "      <td>181</td>\n",
       "      <td>M</td>\n",
       "      <td>R</td>\n",
       "      <td>patient</td>\n",
       "    </tr>\n",
       "    <tr>\n",
       "      <th>4</th>\n",
       "      <td>27</td>\n",
       "      <td>76</td>\n",
       "      <td>153</td>\n",
       "      <td>F</td>\n",
       "      <td>L</td>\n",
       "      <td>control</td>\n",
       "    </tr>\n",
       "  </tbody>\n",
       "</table>\n",
       "</div>"
      ],
      "text/plain": [
       "   age  weight  height sex handedness    group\n",
       "0   26      84     175   M          L  patient\n",
       "1   39      93     181   M          R  patient\n",
       "2   34      89     155   F          L  patient\n",
       "3   30      71     181   M          R  patient\n",
       "4   27      76     153   F          L  control"
      ]
     },
     "execution_count": 9,
     "metadata": {},
     "output_type": "execute_result"
    }
   ],
   "source": [
    "# Consider the following dataset with info about subject in an experiment:\n",
    "np.random.seed(42)\n",
    "n_subjects = 100\n",
    "subjects_df = pd.DataFrame({\n",
    "    'age': np.random.randint(20, 40, n_subjects),\n",
    "    'weight': np.random.randint(50, 100, n_subjects),\n",
    "    'height': np.random.randint(150, 200, n_subjects),\n",
    "    'sex': np.random.choice(['M', 'F'], n_subjects),\n",
    "    'handedness': np.random.choice(['R', 'L'], n_subjects),\n",
    "    'group': np.random.choice(['control', 'patient'], n_subjects)})\n",
    "\n",
    "subjects_df.head()"
   ]
  },
  {
   "cell_type": "code",
   "execution_count": 10,
   "id": "0e56c387",
   "metadata": {},
   "outputs": [
    {
     "data": {
      "text/html": [
       "<div>\n",
       "<style scoped>\n",
       "    .dataframe tbody tr th:only-of-type {\n",
       "        vertical-align: middle;\n",
       "    }\n",
       "\n",
       "    .dataframe tbody tr th {\n",
       "        vertical-align: top;\n",
       "    }\n",
       "\n",
       "    .dataframe thead th {\n",
       "        text-align: right;\n",
       "    }\n",
       "</style>\n",
       "<table border=\"1\" class=\"dataframe\">\n",
       "  <thead>\n",
       "    <tr style=\"text-align: right;\">\n",
       "      <th></th>\n",
       "      <th>age</th>\n",
       "      <th>weight</th>\n",
       "      <th>height</th>\n",
       "      <th>sex</th>\n",
       "      <th>handedness</th>\n",
       "      <th>group</th>\n",
       "    </tr>\n",
       "  </thead>\n",
       "  <tbody>\n",
       "    <tr>\n",
       "      <th>0</th>\n",
       "      <td>26</td>\n",
       "      <td>84</td>\n",
       "      <td>175</td>\n",
       "      <td>M</td>\n",
       "      <td>L</td>\n",
       "      <td>patient</td>\n",
       "    </tr>\n",
       "    <tr>\n",
       "      <th>1</th>\n",
       "      <td>39</td>\n",
       "      <td>93</td>\n",
       "      <td>181</td>\n",
       "      <td>M</td>\n",
       "      <td>R</td>\n",
       "      <td>patient</td>\n",
       "    </tr>\n",
       "  </tbody>\n",
       "</table>\n",
       "</div>"
      ],
      "text/plain": [
       "   age  weight  height sex handedness    group\n",
       "0   26      84     175   M          L  patient\n",
       "1   39      93     181   M          R  patient"
      ]
     },
     "execution_count": 10,
     "metadata": {},
     "output_type": "execute_result"
    }
   ],
   "source": [
    "# Select the first two rows of the dataframe:\n",
    "subjects_df.loc[:1, :]\n"
   ]
  },
  {
   "cell_type": "code",
   "execution_count": 11,
   "id": "abeaa819",
   "metadata": {},
   "outputs": [
    {
     "data": {
      "text/plain": [
       "0     84\n",
       "1     93\n",
       "2     89\n",
       "3     71\n",
       "4     76\n",
       "      ..\n",
       "95    82\n",
       "96    50\n",
       "97    68\n",
       "98    51\n",
       "99    93\n",
       "Name: weight, Length: 100, dtype: int64"
      ]
     },
     "execution_count": 11,
     "metadata": {},
     "output_type": "execute_result"
    }
   ],
   "source": [
    "# Select the column of the dataframe containing the subjects weight using the name of the column:\n",
    "subjects_df.loc[:, \"weight\"]\n"
   ]
  },
  {
   "cell_type": "code",
   "execution_count": 12,
   "id": "dced9106",
   "metadata": {},
   "outputs": [
    {
     "data": {
      "text/plain": [
       "1     93\n",
       "6     50\n",
       "19    64\n",
       "21    75\n",
       "24    81\n",
       "26    98\n",
       "29    79\n",
       "33    94\n",
       "36    78\n",
       "39    81\n",
       "47    77\n",
       "49    93\n",
       "56    88\n",
       "62    52\n",
       "67    58\n",
       "69    82\n",
       "82    51\n",
       "83    52\n",
       "98    51\n",
       "Name: weight, dtype: int64"
      ]
     },
     "execution_count": 12,
     "metadata": {},
     "output_type": "execute_result"
    }
   ],
   "source": [
    "# Select the `weight` column of the dataframe filtering only rows of subjects > 34 years old:\n",
    "subjects_df.loc[subjects_df[\"age\"] > 34, \"weight\"]\n"
   ]
  },
  {
   "cell_type": "code",
   "execution_count": 13,
   "id": "1a597fed",
   "metadata": {},
   "outputs": [
    {
     "name": "stdout",
     "output_type": "stream",
     "text": [
      "Number of M R handed subjects above 30: 11\n",
      "Number of M L handed subjects above 30: 13\n",
      "Number of F R handed subjects above 30: 7\n",
      "Number of F L handed subjects above 30: 11\n"
     ]
    }
   ],
   "source": [
    "# Count how many males and how many females above age 30 are left-handed or right handed.\n",
    "# (Hint: use the same element-wise operators we were using for numpy arrays)\n",
    "\n",
    "for sex in [\"M\", \"F\"]:\n",
    "    for handedness in [\"R\", \"L\"]:\n",
    "        print(f\"Number of {sex} {handedness} handed subjects above 30: {len(subjects_df[(subjects_df['age'] > 30) & (subjects_df['sex'] == sex) & (subjects_df['handedness'] == handedness)])}\")\n"
   ]
  },
  {
   "cell_type": "code",
   "execution_count": 14,
   "id": "2d753478",
   "metadata": {},
   "outputs": [
    {
     "data": {
      "text/html": [
       "<div>\n",
       "<style scoped>\n",
       "    .dataframe tbody tr th:only-of-type {\n",
       "        vertical-align: middle;\n",
       "    }\n",
       "\n",
       "    .dataframe tbody tr th {\n",
       "        vertical-align: top;\n",
       "    }\n",
       "\n",
       "    .dataframe thead th {\n",
       "        text-align: right;\n",
       "    }\n",
       "</style>\n",
       "<table border=\"1\" class=\"dataframe\">\n",
       "  <thead>\n",
       "    <tr style=\"text-align: right;\">\n",
       "      <th></th>\n",
       "      <th>age</th>\n",
       "      <th>weight</th>\n",
       "      <th>height</th>\n",
       "    </tr>\n",
       "  </thead>\n",
       "  <tbody>\n",
       "    <tr>\n",
       "      <th>0</th>\n",
       "      <td>26</td>\n",
       "      <td>84</td>\n",
       "      <td>175</td>\n",
       "    </tr>\n",
       "    <tr>\n",
       "      <th>2</th>\n",
       "      <td>34</td>\n",
       "      <td>89</td>\n",
       "      <td>155</td>\n",
       "    </tr>\n",
       "    <tr>\n",
       "      <th>4</th>\n",
       "      <td>27</td>\n",
       "      <td>76</td>\n",
       "      <td>153</td>\n",
       "    </tr>\n",
       "    <tr>\n",
       "      <th>6</th>\n",
       "      <td>38</td>\n",
       "      <td>50</td>\n",
       "      <td>166</td>\n",
       "    </tr>\n",
       "    <tr>\n",
       "      <th>8</th>\n",
       "      <td>30</td>\n",
       "      <td>86</td>\n",
       "      <td>173</td>\n",
       "    </tr>\n",
       "    <tr>\n",
       "      <th>10</th>\n",
       "      <td>27</td>\n",
       "      <td>63</td>\n",
       "      <td>183</td>\n",
       "    </tr>\n",
       "    <tr>\n",
       "      <th>12</th>\n",
       "      <td>21</td>\n",
       "      <td>50</td>\n",
       "      <td>171</td>\n",
       "    </tr>\n",
       "    <tr>\n",
       "      <th>14</th>\n",
       "      <td>25</td>\n",
       "      <td>75</td>\n",
       "      <td>197</td>\n",
       "    </tr>\n",
       "    <tr>\n",
       "      <th>16</th>\n",
       "      <td>20</td>\n",
       "      <td>88</td>\n",
       "      <td>182</td>\n",
       "    </tr>\n",
       "    <tr>\n",
       "      <th>18</th>\n",
       "      <td>31</td>\n",
       "      <td>58</td>\n",
       "      <td>155</td>\n",
       "    </tr>\n",
       "    <tr>\n",
       "      <th>20</th>\n",
       "      <td>29</td>\n",
       "      <td>64</td>\n",
       "      <td>178</td>\n",
       "    </tr>\n",
       "    <tr>\n",
       "      <th>22</th>\n",
       "      <td>34</td>\n",
       "      <td>91</td>\n",
       "      <td>169</td>\n",
       "    </tr>\n",
       "    <tr>\n",
       "      <th>24</th>\n",
       "      <td>38</td>\n",
       "      <td>81</td>\n",
       "      <td>168</td>\n",
       "    </tr>\n",
       "    <tr>\n",
       "      <th>26</th>\n",
       "      <td>39</td>\n",
       "      <td>98</td>\n",
       "      <td>152</td>\n",
       "    </tr>\n",
       "    <tr>\n",
       "      <th>28</th>\n",
       "      <td>24</td>\n",
       "      <td>53</td>\n",
       "      <td>169</td>\n",
       "    </tr>\n",
       "    <tr>\n",
       "      <th>30</th>\n",
       "      <td>26</td>\n",
       "      <td>86</td>\n",
       "      <td>156</td>\n",
       "    </tr>\n",
       "    <tr>\n",
       "      <th>32</th>\n",
       "      <td>26</td>\n",
       "      <td>88</td>\n",
       "      <td>182</td>\n",
       "    </tr>\n",
       "    <tr>\n",
       "      <th>34</th>\n",
       "      <td>23</td>\n",
       "      <td>64</td>\n",
       "      <td>188</td>\n",
       "    </tr>\n",
       "    <tr>\n",
       "      <th>36</th>\n",
       "      <td>37</td>\n",
       "      <td>78</td>\n",
       "      <td>189</td>\n",
       "    </tr>\n",
       "    <tr>\n",
       "      <th>38</th>\n",
       "      <td>21</td>\n",
       "      <td>62</td>\n",
       "      <td>160</td>\n",
       "    </tr>\n",
       "    <tr>\n",
       "      <th>40</th>\n",
       "      <td>34</td>\n",
       "      <td>56</td>\n",
       "      <td>174</td>\n",
       "    </tr>\n",
       "    <tr>\n",
       "      <th>42</th>\n",
       "      <td>31</td>\n",
       "      <td>77</td>\n",
       "      <td>172</td>\n",
       "    </tr>\n",
       "    <tr>\n",
       "      <th>44</th>\n",
       "      <td>34</td>\n",
       "      <td>91</td>\n",
       "      <td>179</td>\n",
       "    </tr>\n",
       "    <tr>\n",
       "      <th>46</th>\n",
       "      <td>33</td>\n",
       "      <td>55</td>\n",
       "      <td>184</td>\n",
       "    </tr>\n",
       "    <tr>\n",
       "      <th>48</th>\n",
       "      <td>23</td>\n",
       "      <td>77</td>\n",
       "      <td>165</td>\n",
       "    </tr>\n",
       "    <tr>\n",
       "      <th>50</th>\n",
       "      <td>27</td>\n",
       "      <td>93</td>\n",
       "      <td>197</td>\n",
       "    </tr>\n",
       "    <tr>\n",
       "      <th>52</th>\n",
       "      <td>21</td>\n",
       "      <td>79</td>\n",
       "      <td>151</td>\n",
       "    </tr>\n",
       "    <tr>\n",
       "      <th>54</th>\n",
       "      <td>29</td>\n",
       "      <td>77</td>\n",
       "      <td>197</td>\n",
       "    </tr>\n",
       "    <tr>\n",
       "      <th>56</th>\n",
       "      <td>37</td>\n",
       "      <td>88</td>\n",
       "      <td>154</td>\n",
       "    </tr>\n",
       "    <tr>\n",
       "      <th>58</th>\n",
       "      <td>21</td>\n",
       "      <td>50</td>\n",
       "      <td>181</td>\n",
       "    </tr>\n",
       "    <tr>\n",
       "      <th>60</th>\n",
       "      <td>23</td>\n",
       "      <td>62</td>\n",
       "      <td>190</td>\n",
       "    </tr>\n",
       "    <tr>\n",
       "      <th>62</th>\n",
       "      <td>35</td>\n",
       "      <td>52</td>\n",
       "      <td>168</td>\n",
       "    </tr>\n",
       "    <tr>\n",
       "      <th>64</th>\n",
       "      <td>27</td>\n",
       "      <td>55</td>\n",
       "      <td>165</td>\n",
       "    </tr>\n",
       "    <tr>\n",
       "      <th>66</th>\n",
       "      <td>27</td>\n",
       "      <td>76</td>\n",
       "      <td>169</td>\n",
       "    </tr>\n",
       "    <tr>\n",
       "      <th>68</th>\n",
       "      <td>32</td>\n",
       "      <td>86</td>\n",
       "      <td>182</td>\n",
       "    </tr>\n",
       "    <tr>\n",
       "      <th>70</th>\n",
       "      <td>34</td>\n",
       "      <td>91</td>\n",
       "      <td>160</td>\n",
       "    </tr>\n",
       "    <tr>\n",
       "      <th>72</th>\n",
       "      <td>28</td>\n",
       "      <td>73</td>\n",
       "      <td>157</td>\n",
       "    </tr>\n",
       "    <tr>\n",
       "      <th>74</th>\n",
       "      <td>32</td>\n",
       "      <td>81</td>\n",
       "      <td>187</td>\n",
       "    </tr>\n",
       "    <tr>\n",
       "      <th>76</th>\n",
       "      <td>26</td>\n",
       "      <td>73</td>\n",
       "      <td>169</td>\n",
       "    </tr>\n",
       "    <tr>\n",
       "      <th>78</th>\n",
       "      <td>20</td>\n",
       "      <td>98</td>\n",
       "      <td>197</td>\n",
       "    </tr>\n",
       "    <tr>\n",
       "      <th>80</th>\n",
       "      <td>27</td>\n",
       "      <td>61</td>\n",
       "      <td>184</td>\n",
       "    </tr>\n",
       "    <tr>\n",
       "      <th>82</th>\n",
       "      <td>38</td>\n",
       "      <td>51</td>\n",
       "      <td>178</td>\n",
       "    </tr>\n",
       "    <tr>\n",
       "      <th>84</th>\n",
       "      <td>27</td>\n",
       "      <td>98</td>\n",
       "      <td>195</td>\n",
       "    </tr>\n",
       "    <tr>\n",
       "      <th>86</th>\n",
       "      <td>22</td>\n",
       "      <td>98</td>\n",
       "      <td>151</td>\n",
       "    </tr>\n",
       "    <tr>\n",
       "      <th>88</th>\n",
       "      <td>24</td>\n",
       "      <td>98</td>\n",
       "      <td>165</td>\n",
       "    </tr>\n",
       "    <tr>\n",
       "      <th>90</th>\n",
       "      <td>26</td>\n",
       "      <td>51</td>\n",
       "      <td>185</td>\n",
       "    </tr>\n",
       "    <tr>\n",
       "      <th>92</th>\n",
       "      <td>26</td>\n",
       "      <td>72</td>\n",
       "      <td>153</td>\n",
       "    </tr>\n",
       "    <tr>\n",
       "      <th>94</th>\n",
       "      <td>27</td>\n",
       "      <td>81</td>\n",
       "      <td>163</td>\n",
       "    </tr>\n",
       "    <tr>\n",
       "      <th>96</th>\n",
       "      <td>21</td>\n",
       "      <td>50</td>\n",
       "      <td>197</td>\n",
       "    </tr>\n",
       "    <tr>\n",
       "      <th>98</th>\n",
       "      <td>35</td>\n",
       "      <td>51</td>\n",
       "      <td>157</td>\n",
       "    </tr>\n",
       "  </tbody>\n",
       "</table>\n",
       "</div>"
      ],
      "text/plain": [
       "    age  weight  height\n",
       "0    26      84     175\n",
       "2    34      89     155\n",
       "4    27      76     153\n",
       "6    38      50     166\n",
       "8    30      86     173\n",
       "10   27      63     183\n",
       "12   21      50     171\n",
       "14   25      75     197\n",
       "16   20      88     182\n",
       "18   31      58     155\n",
       "20   29      64     178\n",
       "22   34      91     169\n",
       "24   38      81     168\n",
       "26   39      98     152\n",
       "28   24      53     169\n",
       "30   26      86     156\n",
       "32   26      88     182\n",
       "34   23      64     188\n",
       "36   37      78     189\n",
       "38   21      62     160\n",
       "40   34      56     174\n",
       "42   31      77     172\n",
       "44   34      91     179\n",
       "46   33      55     184\n",
       "48   23      77     165\n",
       "50   27      93     197\n",
       "52   21      79     151\n",
       "54   29      77     197\n",
       "56   37      88     154\n",
       "58   21      50     181\n",
       "60   23      62     190\n",
       "62   35      52     168\n",
       "64   27      55     165\n",
       "66   27      76     169\n",
       "68   32      86     182\n",
       "70   34      91     160\n",
       "72   28      73     157\n",
       "74   32      81     187\n",
       "76   26      73     169\n",
       "78   20      98     197\n",
       "80   27      61     184\n",
       "82   38      51     178\n",
       "84   27      98     195\n",
       "86   22      98     151\n",
       "88   24      98     165\n",
       "90   26      51     185\n",
       "92   26      72     153\n",
       "94   27      81     163\n",
       "96   21      50     197\n",
       "98   35      51     157"
      ]
     },
     "execution_count": 14,
     "metadata": {},
     "output_type": "execute_result"
    }
   ],
   "source": [
    "# Use .iloc to select one every two rows for the first 3 columns:\n",
    "subjects_df.iloc[::2, :3]\n"
   ]
  }
 ],
 "metadata": {
  "kernelspec": {
   "display_name": "course-env",
   "language": "python",
   "name": "python3"
  },
  "language_info": {
   "codemirror_mode": {
    "name": "ipython",
    "version": 3
   },
   "file_extension": ".py",
   "mimetype": "text/x-python",
   "name": "python",
   "nbconvert_exporter": "python",
   "pygments_lexer": "ipython3",
   "version": "3.10.13"
  }
 },
 "nbformat": 4,
 "nbformat_minor": 5
}
