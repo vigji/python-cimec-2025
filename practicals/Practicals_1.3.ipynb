{
  "cells": [
    {
      "cell_type": "markdown",
      "id": "6e846e6c",
      "metadata": {
        "id": "6e846e6c"
      },
      "source": [
        "# Practicals for lecture 1.3\n",
        "\n",
        "[![Open In Colab](https://colab.research.google.com/assets/colab-badge.svg)](https://colab.research.google.com/github/vigji/python-cimec-2025/blob/main/practicals/Practicals_1.3.ipynb)"
      ]
    },
    {
      "cell_type": "code",
      "execution_count": null,
      "id": "100e0fe2",
      "metadata": {
        "id": "100e0fe2"
      },
      "outputs": [],
      "source": [
        "import pandas as pd\n",
        "import numpy as np\n",
        "from matplotlib import pyplot as plt"
      ]
    },
    {
      "cell_type": "markdown",
      "id": "786369d9",
      "metadata": {
        "id": "786369d9"
      },
      "source": [
        "#### 1.3.0"
      ]
    },
    {
      "cell_type": "code",
      "execution_count": null,
      "id": "bccded90",
      "metadata": {
        "id": "bccded90"
      },
      "outputs": [],
      "source": [
        "# Create a dataframe from the following info about subject in an experiment:\n",
        "np.random.seed(42)\n",
        "n_subjects = 100\n",
        "subjects_data_dictionary = {\n",
        "    'age': np.random.randint(20, 40, n_subjects),\n",
        "    'weight': np.random.randint(50, 100, n_subjects),\n",
        "    'height': np.random.randint(150, 200, n_subjects),\n",
        "    'sex': np.random.choice(['M', 'F'], n_subjects),\n",
        "    'handedness': np.random.choice(['R', 'L'], n_subjects),\n",
        "    'group': np.random.choice(['control', 'patient'], n_subjects)}\n"
      ]
    },
    {
      "cell_type": "code",
      "execution_count": null,
      "id": "71ea2049",
      "metadata": {
        "id": "71ea2049"
      },
      "outputs": [],
      "source": [
        "# We can calculate the BMI as :\n",
        "# (body weight in kgs) /  ( (height in meters) ** 2)\n",
        "\n",
        "# Define a new column where you compute the BMI for every subject:\n"
      ]
    },
    {
      "cell_type": "code",
      "execution_count": null,
      "id": "89453d37",
      "metadata": {
        "id": "89453d37"
      },
      "outputs": [],
      "source": [
        "string_data = ['cabbage', 'artichoke', 'banana', 'avocado', 'apple', 'orange']\n",
        "int_data = [1, 2, 3, 4, 5, 6]\n",
        "float_data = [0.1, 0.2, 0.3, 0.4, 0.5, 0.6]\n",
        "\n",
        "# organize the data above in a dictionary and from it define a new DataFrame:\n"
      ]
    },
    {
      "cell_type": "code",
      "execution_count": null,
      "id": "28bd4448",
      "metadata": {
        "id": "28bd4448"
      },
      "outputs": [],
      "source": [
        "# Now, reorganize the data in a list of dictionaries\n",
        "# (one for every row: {string_data: 'cabbage', int_data: 1, float_data: 0.1}, etc. Do it using a for loop, and ideally use zip)\n",
        "# and from it define a new DataFrame:\n",
        "\n"
      ]
    },
    {
      "cell_type": "code",
      "execution_count": null,
      "id": "83005832",
      "metadata": {
        "id": "83005832"
      },
      "outputs": [],
      "source": [
        "# Extend the subject dataset above adding two subjects for which you have the following info:\n",
        "# (Hint: start by defining a new dataframe, and then concatenate it)\n",
        "\n",
        "new_subject1 = {'age': 25,\n",
        "    'weight': 78,\n",
        "    'height': 170,\n",
        "    'sex': \"M\",\n",
        "    'handedness': \"R\",\n",
        "    'group': \"patient\"}\n",
        "new_subject2 = {'age': 35,\n",
        "    'weight': 65,\n",
        "    'height': 165,\n",
        "    'sex': \"F\",\n",
        "    'handedness': \"R\",\n",
        "    'group': \"control\"}\n",
        "\n",
        "# Make sure the new dataset has univoque indexing! (no two rows should have the same index)\n"
      ]
    },
    {
      "cell_type": "code",
      "execution_count": null,
      "id": "b73e5bf2",
      "metadata": {
        "id": "b73e5bf2"
      },
      "outputs": [],
      "source": [
        "# [Advanced]\n",
        "# In the above exercise, we're 'adding new rows\" to our dataframe with pd.concat.\n",
        "# Is this process truly modifying the original subjects_df object or are we creating a new object in memory? Write down your guess then verify it using python's \"is\" keyword.\n",
        "# (as in \"df_a is df_b\"; will return True if df_a and df_b are the same object in memory)\n",
        "\n",
        "# Based on this information, would it be efficient to add a large number of subjects to a dataframe in a for loop using pd.concat?\n"
      ]
    },
    {
      "cell_type": "code",
      "execution_count": null,
      "id": "75e46a14",
      "metadata": {
        "id": "75e46a14"
      },
      "outputs": [],
      "source": [
        "# Iteratively growing a dataframe\n",
        "# write 4 different functions for iteratively adding subject numbers (from 1 to 100) row by row to an empty dataframe\n",
        "# to be clear, the final output is a dataframe with column name \"subject\" and 100 rows [0,1,2,...100] - very simple output but we want to know which approach is most efficient\n",
        "\n",
        "\n",
        "def append_with_concat():\n",
        "  df = pd.DataFrame(columns = ['subject']) # create an empty dataframe with only the column name\n",
        "  for subject_num in range(100):\n",
        "     ...\n",
        "    #create a dataframe to store subject_num (i.e. 1 row), and add it to df using pd.concat\"\n",
        "\n",
        "def collect_dfs_then_concat():\n",
        "  list_of_dfs = []\n",
        "  for subject_num in range(100):\n",
        "     ...\n",
        "    #create a dataframe to store subject_num (i.e. 1 row) then add this dataframe to the list_of_dfs\n",
        "  #outside the for loop, combine all the dfs from the list_of_dfs as well as the empty one into a single df with pd.concat\n",
        "\n",
        "def append_to_list_then_convert_to_df():\n",
        "  list_of_subject_nums = []\n",
        "  for subject_num in range(100):\n",
        "     ...\n",
        "    #append to the list\n",
        "  #outside the for loop, convert the list to a df\n",
        "\n",
        "def preallocate_numpy_array():\n",
        "    array = np.zeros((100, 1))\n",
        "    for subject_num in range(100):\n",
        "       ...\n",
        "        #replace the zeros in the array with the subject_num\n",
        "    #outside the for loop, convert the array into a df"
      ]
    },
    {
      "cell_type": "code",
      "execution_count": null,
      "id": "0190e15e",
      "metadata": {
        "id": "0190e15e"
      },
      "outputs": [],
      "source": [
        "# let's compare how fast each option is!\n",
        "%timeit append_with_concat()\n",
        "%timeit collect_dfs_then_concat()\n",
        "%timeit append_to_list_then_convert_to_df()\n",
        "%timeit preallocate_numpy_array()\n",
        "# the example was ridiculously simple (100 rows and 1 column) so if you're working with a larger dataset you'll feel the difference between these even more\n",
        "# in general, you should really avoid appending to a dataframe. If you need to iteratively construct a data container, work with lists, arrays or dicts then only convert to\n",
        "# dataframes at the end for extracting info from your final dataframe"
      ]
    },
    {
      "cell_type": "markdown",
      "id": "33fbab31",
      "metadata": {
        "id": "33fbab31"
      },
      "source": [
        "#### 1.3.1 Methods of `pandas` dataframes"
      ]
    },
    {
      "cell_type": "code",
      "execution_count": null,
      "id": "c20a15d6",
      "metadata": {
        "id": "c20a15d6"
      },
      "outputs": [],
      "source": [
        "# Here we create a fake dataframe containing the results of a psychological test with 30 subjects.\n",
        "# Subjects can be left-handed or right-handed.\n",
        "# The test has 2 measures (reaction time - RT, and accuracy)\n",
        "def create_data_df():\n",
        "    np.random.seed(42)\n",
        "    subject_ability = np.random.uniform(0, 1, 30)\n",
        "    return pd.DataFrame({'subject': [f\"subject_{i}\" for i in range(30)],\n",
        "                       'handedness': np.random.choice(['left', 'right'], 30),\n",
        "                       'RT': subject_ability*100 + np.random.uniform(0, 50, 30),\n",
        "                       'accuracy': subject_ability + np.random.normal(0.8, 0.1, 30)})\n",
        "df = create_data_df()\n",
        "df.head()"
      ]
    },
    {
      "cell_type": "code",
      "execution_count": null,
      "id": "581126bb",
      "metadata": {
        "id": "581126bb"
      },
      "outputs": [],
      "source": [
        "# sort the dataframe by RT:\n"
      ]
    },
    {
      "cell_type": "code",
      "execution_count": null,
      "id": "f400f63d",
      "metadata": {
        "id": "f400f63d"
      },
      "outputs": [],
      "source": [
        "# Compute the mean and standard deviation of the RT and accuracy across the dataset:\n"
      ]
    },
    {
      "cell_type": "code",
      "execution_count": null,
      "id": "9ba8c60e",
      "metadata": {
        "id": "9ba8c60e"
      },
      "outputs": [],
      "source": [
        "# Use indexing to select the RT of the left-handed subjects, and compute its 90% percentile:\n"
      ]
    },
    {
      "cell_type": "code",
      "execution_count": null,
      "id": "5544450f",
      "metadata": {
        "id": "5544450f"
      },
      "outputs": [],
      "source": [
        "# Now use the percentile to select the accuracy for left-handed subjects with RT above the 90% percentile:\n"
      ]
    },
    {
      "cell_type": "code",
      "execution_count": null,
      "id": "23f238b4",
      "metadata": {
        "id": "23f238b4"
      },
      "outputs": [],
      "source": [
        "# Create a scatter plot of RT vs accuracy for the right-handed subjects:\n"
      ]
    },
    {
      "cell_type": "code",
      "execution_count": null,
      "id": "291a2f1c",
      "metadata": {
        "id": "291a2f1c"
      },
      "outputs": [],
      "source": [
        "# Take the meteo dataset using the function below\n",
        "def get_meteo_dataset():\n",
        "    \"\"\"Get the meteo dataset from the open-meteo API.\n",
        "    Note how easy it is to get data from the web with pandas! As long as we give the URL of the csv data, pandas can read it.\n",
        "    \"\"\"\n",
        "    np.random.seed(42)\n",
        "    URL = \"https://api.open-meteo.com/v1/forecast?latitude=52.52&longitude=13.41&current=temperature_2m,wind_speed_10m&hourly=temperature_2m,relative_humidity_2m,precipitation,wind_speed_10m,winddirection_10m&start_date=2025-03-01&end_date=2025-04-20&format=csv\"\n",
        "    df = pd.read_csv(URL, skiprows=6)  # read the csv file, skipping the first 3 rows (a header)\n",
        "    df.columns = [col.split(\" \")[0] for col in df.columns]  # simplify column names\n",
        "    df[\"time\"] = pd.to_datetime(df[\"time\"])  # convert the time column to datetime\n",
        "    df[\"hour\"], df[\"dayofyear\"] = df[\"time\"].dt.hour, df[\"time\"].dt.dayofyear  # extract the hour and day of year\n",
        "    df[\"weekdays\"] = df[\"time\"].dt.day_name()  # extract the day of the week\n",
        "\n",
        "    # Here we artificially corrupt some of the data to make it more interesting\n",
        "    missing_idx = np.random.choice(df.index[:1000], 100)\n",
        "    df.loc[missing_idx, :] = np.nan\n",
        "    return df\n",
        "\n",
        "meteo_df = get_meteo_dataset()"
      ]
    },
    {
      "cell_type": "code",
      "execution_count": null,
      "id": "3b74c498",
      "metadata": {
        "id": "3b74c498"
      },
      "outputs": [],
      "source": []
    },
    {
      "cell_type": "code",
      "execution_count": null,
      "id": "c4c78a9b",
      "metadata": {
        "id": "c4c78a9b"
      },
      "outputs": [],
      "source": [
        "# Plot the temperature and relative humidity for the first 1000 time points.\n",
        "# find how many missing timepoints there are in the temperature column using the .isna() method\n",
        "\n",
        "# Find points where there's missing data (interrupted line).\n"
      ]
    },
    {
      "cell_type": "code",
      "execution_count": null,
      "id": "599b76c3",
      "metadata": {
        "id": "599b76c3"
      },
      "outputs": [],
      "source": [
        "# Create a new interpolated temperature column by interpolating the temperature column of the dataframe:\n",
        "\n"
      ]
    },
    {
      "cell_type": "code",
      "execution_count": null,
      "id": "805126a9",
      "metadata": {
        "id": "805126a9"
      },
      "outputs": [],
      "source": [
        "# Make a new plot with the interpolated temperature and the non-interpolated temperature\n",
        "# (plot the interpolated first!)\n"
      ]
    },
    {
      "cell_type": "markdown",
      "id": "2260373b",
      "metadata": {
        "id": "2260373b"
      },
      "source": [
        "#### 1.3.2 Organize a dataframe"
      ]
    },
    {
      "cell_type": "code",
      "execution_count": null,
      "id": "0f2f3e6e",
      "metadata": {
        "id": "0f2f3e6e"
      },
      "outputs": [],
      "source": [
        "# Let's have a look into how to organize data in a dataframe.\n",
        "\n",
        "# Use the following function that generates results for many subjects on\n",
        "# an experiment with experimental trials of different difficulty levels.\n",
        "\n",
        "def get_experiment_block_data(n_subjects=50, difficulty_levels=(1, 2, 3, 4, 5), n_repetitions=50):\n",
        "    \"\"\"Generate a dataframe with results from an experiment with experimental blocks.\n",
        "\n",
        "    Parameters\n",
        "    ----------\n",
        "    n_reps : int\n",
        "        Number of experimental blocks.\n",
        "    n_subjects : int\n",
        "        Number of subjects.\n",
        "    difficulty_levels : tuple\n",
        "        Difficulty levels of the experimental blocks.\n",
        "\n",
        "    Returns\n",
        "    -------\n",
        "    dict\n",
        "        A dictionary with the results of the experiment for each subject.\n",
        "\n",
        "\n",
        "    \"\"\"\n",
        "\n",
        "\n",
        "    np.random.seed(42)\n",
        "    subject_dict = dict()\n",
        "    for subject in range(n_subjects):\n",
        "        subject_ability = np.random.randint(1, 6)\n",
        "        difficulty_level_arr = np.random.choice(difficulty_levels, size=n_repetitions)\n",
        "        rt = np.random.normal(1000, 100, size=n_repetitions) * difficulty_level_arr / subject_ability\n",
        "        error = np.random.uniform(0, 1000*difficulty_level_arr / subject_ability, size=n_repetitions)\n",
        "\n",
        "        subject_dict[f\"subject_{subject}\"] = dict(\n",
        "            difficulty_level=difficulty_level_arr,\n",
        "            rt=rt,\n",
        "            error=error,\n",
        "        )\n",
        "\n",
        "    return subject_dict\n",
        "\n",
        "\n",
        "# Run the function to generate the data dictionary.\n",
        "# Every entry of the dictionary (a subject) contains arrays\n",
        "# for the trial difficulty level, reaction time, and error:\n",
        "data = get_experiment_block_data()\n",
        "\n",
        "# Convert the nested data to a (flat) dataframe:"
      ]
    },
    {
      "cell_type": "code",
      "execution_count": null,
      "id": "c01fd768",
      "metadata": {
        "id": "c01fd768"
      },
      "outputs": [],
      "source": [
        "# Select the data for subject 0, and create a scatter plot with the reaction time as a function of the trial difficulty level:\n"
      ]
    },
    {
      "cell_type": "code",
      "execution_count": null,
      "id": "77864f09",
      "metadata": {
        "id": "77864f09"
      },
      "outputs": [],
      "source": [
        "# Load the subjects dataframe from the csv file at the url:\n",
        "# https://raw.githubusercontent.com/vigji/python-cimec/main/practicals/data/subjects_df.csv\n",
        "\n",
        "subject_df = pd.read_csv(\"https://raw.githubusercontent.com/vigji/python-cimec/main/practicals/data/subjects_df.csv\",\n",
        "                         index_col=0)\n",
        "subject_df.head()"
      ]
    },
    {
      "cell_type": "code",
      "execution_count": null,
      "id": "f5a1d632",
      "metadata": {
        "id": "f5a1d632"
      },
      "outputs": [],
      "source": [
        "# Now use boolean indexing on the subject dataframe to include only left-handed males\n",
        "# above 30 years in the analysis.\n",
        "# Plot the reaction time as a function of the trial difficulty level for this subpopulation:\n"
      ]
    }
  ],
  "metadata": {
    "kernelspec": {
      "display_name": "Python 3 (ipykernel)",
      "language": "python",
      "name": "python3"
    },
    "language_info": {
      "codemirror_mode": {
        "name": "ipython",
        "version": 3
      },
      "file_extension": ".py",
      "mimetype": "text/x-python",
      "name": "python",
      "nbconvert_exporter": "python",
      "pygments_lexer": "ipython3",
      "version": "3.11.6"
    },
    "colab": {
      "provenance": []
    }
  },
  "nbformat": 4,
  "nbformat_minor": 5
}